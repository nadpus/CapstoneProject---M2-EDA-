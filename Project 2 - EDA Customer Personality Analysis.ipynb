{
 "cells": [
  {
   "cell_type": "markdown",
   "metadata": {},
   "source": [
    "## **Latar Belakang**\n",
    "\n",
    "Sebuah perusahaan memiliki kumpulan data dari transaksi customer selama dua tahun terakhir. Perusahaan ingin melakukan *Customer Personality Analysis* terhadap populasi customernya agar dapat membantu perusahaan dalam membuat perencanaan penjualan yang lebih tepat dan *marketing campaign* yang lebih efektif."
   ]
  },
  {
   "cell_type": "markdown",
   "metadata": {},
   "source": [
    "## **Rumusan Masalah**\n",
    "\n",
    "1. Bagaimana karakteristik customer yang membeli produk berdasarkan usia, pendapatan, status perkawinan, dan jumlah anak?\n",
    "2. Bagaimana efektifitas campaign terhadap populasi customer?"
   ]
  },
  {
   "cell_type": "markdown",
   "metadata": {},
   "source": [
    "## **Data Understanding**\n",
    "\n",
    "Untuk menjawab rumusan masalah diatas, maka saya akan menganalisis data yang sudah dikumpulkan oleh perusahaan. Dataset dapat diakses pada link berikut [[LinkDataset]](https://www.kaggle.com/datasets/imakash3011/customer-personality-analysis). Dataset ini memiliki 29 variable yang dikelompokkan menjadi 5 kelompok dengan detail sebagai berikut:\n",
    "\n",
    "* People\n",
    "    - ID: ID unik customer\n",
    "    - Year_Birth: Tahun lahir customer\n",
    "    - Education: Level pendidikan customer\n",
    "    - Marital_Status: Status pernikahan customer\n",
    "    - Income: Pendapatan rumah tangga tahunan customer\n",
    "    - Kidhome: Jumlah anak kecil yang dimiliki customer\n",
    "    - Teenhome: Jumlah remaja yang dimiliki customer\n",
    "    - Dt_Customer: Tanggal pendaftaran customer ke perusahaan\n",
    "    - Recency: Jumlah hari sejak customer melakukan pembelian terakhir\n",
    "    - Complain: 1 jika customer complain dalam 2 tahun terakhir, 0 sebaliknya\n",
    "<br><br>\n",
    "* Products\n",
    "    - MntWines: Jumlah yang dibelanjakan untuk Wine dalam 2 tahun terakhir\n",
    "    - MntFruits: Jumlah yang dibelanjakan untuk Buah dalam 2 tahun terakhir\n",
    "    - MntMeatProducts: Jumlah yang dibelanjakan untuk Daging dalam 2 tahun terakhir\n",
    "    - MntFishProducts: Jumlah yang dibelanjakan untuk Ikan dalam 2 tahun terakhir\n",
    "    - MntSweetProducts: Jumlah yang dibelanjakan untuk produk Makanan Manis dalam 2 tahun terakhir\n",
    "    - MntGoldProds: Jumlah yang dibelanjakan untuk Emas dalam 2 tahun terakhir\n",
    "<br><br>\n",
    "* Promotion\n",
    "    - NumDealsPurchases: Jumlah pembelian yang menggunakan diskon\n",
    "    - AcceptedCmp1: 1 jika customer menerima penawaran dari campaign ke-1, 0 sebaliknya\n",
    "    - AcceptedCmp2: 1 jika customer menerima penawaran dari campaign ke-2, 0 sebaliknya\n",
    "    - AcceptedCmp3: 1 jika customer menerima penawaran dari campaign ke-3, 0 sebaliknya \n",
    "    - AcceptedCmp4: 1 jika customer menerima penawaran dari campaign ke-4, 0 sebaliknya\n",
    "    - AcceptedCmp5: 1 jika customer menerima penawaran dari campaign ke-5, 0 sebaliknya\n",
    "    - Response: 1 jika customer menerima penawaran dari campaign terakhir, 0 sebaliknya\n",
    "<br><br>\n",
    "* Place\n",
    "    - NumWebPurchases: Jumlah pembelian yang dilakukan melalui website perusahaan\n",
    "    - NumCatalogPurchases: Jumlah pembelian yang dilakukan menggunakan katalog\n",
    "    - NumStorePurchases: Jumlah pembelian yang dilakukan langsung di toko\n",
    "    - NumWebVisitsMonth: Jumlah kunjungan ke website perusahaan dalam sebulan terakhir\n",
    "<br><br>\n",
    "* Others\n",
    "    - Z_CostContact: Kolom irrelevan dengan dataset \"Customer Personality Analysis\"\n",
    "    - Z_Revenue: Kolom irrelevan dengan dataset \"Customer Personality Analysis\""
   ]
  },
  {
   "cell_type": "markdown",
   "metadata": {},
   "source": [
    "## **Data Preparation**\n",
    "---"
   ]
  },
  {
   "cell_type": "markdown",
   "metadata": {},
   "source": [
    "### **Importing Libraries**"
   ]
  },
  {
   "cell_type": "code",
   "execution_count": 1,
   "metadata": {},
   "outputs": [],
   "source": [
    "import numpy as np\n",
    "import pandas as pd\n",
    "import matplotlib.pyplot as plt\n",
    "import seaborn as sns\n",
    "from datetime import datetime\n",
    "from scipy.stats import kruskal\n",
    "from scipy.stats import mannwhitneyu"
   ]
  },
  {
   "cell_type": "markdown",
   "metadata": {},
   "source": [
    "### **Loading Dataset**"
   ]
  },
  {
   "cell_type": "code",
   "execution_count": 2,
   "metadata": {},
   "outputs": [
    {
     "data": {
      "text/html": [
       "<div>\n",
       "<style scoped>\n",
       "    .dataframe tbody tr th:only-of-type {\n",
       "        vertical-align: middle;\n",
       "    }\n",
       "\n",
       "    .dataframe tbody tr th {\n",
       "        vertical-align: top;\n",
       "    }\n",
       "\n",
       "    .dataframe thead th {\n",
       "        text-align: right;\n",
       "    }\n",
       "</style>\n",
       "<table border=\"1\" class=\"dataframe\">\n",
       "  <thead>\n",
       "    <tr style=\"text-align: right;\">\n",
       "      <th></th>\n",
       "      <th>ID</th>\n",
       "      <th>Year_Birth</th>\n",
       "      <th>Education</th>\n",
       "      <th>Marital_Status</th>\n",
       "      <th>Income</th>\n",
       "      <th>Kidhome</th>\n",
       "      <th>Teenhome</th>\n",
       "      <th>Dt_Customer</th>\n",
       "      <th>Recency</th>\n",
       "      <th>MntWines</th>\n",
       "      <th>MntFruits</th>\n",
       "      <th>MntMeatProducts</th>\n",
       "      <th>MntFishProducts</th>\n",
       "      <th>MntSweetProducts</th>\n",
       "      <th>MntGoldProds</th>\n",
       "      <th>NumDealsPurchases</th>\n",
       "      <th>NumWebPurchases</th>\n",
       "      <th>NumCatalogPurchases</th>\n",
       "      <th>NumStorePurchases</th>\n",
       "      <th>NumWebVisitsMonth</th>\n",
       "      <th>AcceptedCmp3</th>\n",
       "      <th>AcceptedCmp4</th>\n",
       "      <th>AcceptedCmp5</th>\n",
       "      <th>AcceptedCmp1</th>\n",
       "      <th>AcceptedCmp2</th>\n",
       "      <th>Complain</th>\n",
       "      <th>Z_CostContact</th>\n",
       "      <th>Z_Revenue</th>\n",
       "      <th>Response</th>\n",
       "    </tr>\n",
       "  </thead>\n",
       "  <tbody>\n",
       "    <tr>\n",
       "      <th>0</th>\n",
       "      <td>5524</td>\n",
       "      <td>1957</td>\n",
       "      <td>Graduation</td>\n",
       "      <td>Single</td>\n",
       "      <td>58138.0</td>\n",
       "      <td>0</td>\n",
       "      <td>0</td>\n",
       "      <td>04-09-2012</td>\n",
       "      <td>58</td>\n",
       "      <td>635</td>\n",
       "      <td>88</td>\n",
       "      <td>546</td>\n",
       "      <td>172</td>\n",
       "      <td>88</td>\n",
       "      <td>88</td>\n",
       "      <td>3</td>\n",
       "      <td>8</td>\n",
       "      <td>10</td>\n",
       "      <td>4</td>\n",
       "      <td>7</td>\n",
       "      <td>0</td>\n",
       "      <td>0</td>\n",
       "      <td>0</td>\n",
       "      <td>0</td>\n",
       "      <td>0</td>\n",
       "      <td>0</td>\n",
       "      <td>3</td>\n",
       "      <td>11</td>\n",
       "      <td>1</td>\n",
       "    </tr>\n",
       "    <tr>\n",
       "      <th>1</th>\n",
       "      <td>2174</td>\n",
       "      <td>1954</td>\n",
       "      <td>Graduation</td>\n",
       "      <td>Single</td>\n",
       "      <td>46344.0</td>\n",
       "      <td>1</td>\n",
       "      <td>1</td>\n",
       "      <td>08-03-2014</td>\n",
       "      <td>38</td>\n",
       "      <td>11</td>\n",
       "      <td>1</td>\n",
       "      <td>6</td>\n",
       "      <td>2</td>\n",
       "      <td>1</td>\n",
       "      <td>6</td>\n",
       "      <td>2</td>\n",
       "      <td>1</td>\n",
       "      <td>1</td>\n",
       "      <td>2</td>\n",
       "      <td>5</td>\n",
       "      <td>0</td>\n",
       "      <td>0</td>\n",
       "      <td>0</td>\n",
       "      <td>0</td>\n",
       "      <td>0</td>\n",
       "      <td>0</td>\n",
       "      <td>3</td>\n",
       "      <td>11</td>\n",
       "      <td>0</td>\n",
       "    </tr>\n",
       "    <tr>\n",
       "      <th>2</th>\n",
       "      <td>4141</td>\n",
       "      <td>1965</td>\n",
       "      <td>Graduation</td>\n",
       "      <td>Together</td>\n",
       "      <td>71613.0</td>\n",
       "      <td>0</td>\n",
       "      <td>0</td>\n",
       "      <td>21-08-2013</td>\n",
       "      <td>26</td>\n",
       "      <td>426</td>\n",
       "      <td>49</td>\n",
       "      <td>127</td>\n",
       "      <td>111</td>\n",
       "      <td>21</td>\n",
       "      <td>42</td>\n",
       "      <td>1</td>\n",
       "      <td>8</td>\n",
       "      <td>2</td>\n",
       "      <td>10</td>\n",
       "      <td>4</td>\n",
       "      <td>0</td>\n",
       "      <td>0</td>\n",
       "      <td>0</td>\n",
       "      <td>0</td>\n",
       "      <td>0</td>\n",
       "      <td>0</td>\n",
       "      <td>3</td>\n",
       "      <td>11</td>\n",
       "      <td>0</td>\n",
       "    </tr>\n",
       "    <tr>\n",
       "      <th>3</th>\n",
       "      <td>6182</td>\n",
       "      <td>1984</td>\n",
       "      <td>Graduation</td>\n",
       "      <td>Together</td>\n",
       "      <td>26646.0</td>\n",
       "      <td>1</td>\n",
       "      <td>0</td>\n",
       "      <td>10-02-2014</td>\n",
       "      <td>26</td>\n",
       "      <td>11</td>\n",
       "      <td>4</td>\n",
       "      <td>20</td>\n",
       "      <td>10</td>\n",
       "      <td>3</td>\n",
       "      <td>5</td>\n",
       "      <td>2</td>\n",
       "      <td>2</td>\n",
       "      <td>0</td>\n",
       "      <td>4</td>\n",
       "      <td>6</td>\n",
       "      <td>0</td>\n",
       "      <td>0</td>\n",
       "      <td>0</td>\n",
       "      <td>0</td>\n",
       "      <td>0</td>\n",
       "      <td>0</td>\n",
       "      <td>3</td>\n",
       "      <td>11</td>\n",
       "      <td>0</td>\n",
       "    </tr>\n",
       "    <tr>\n",
       "      <th>4</th>\n",
       "      <td>5324</td>\n",
       "      <td>1981</td>\n",
       "      <td>PhD</td>\n",
       "      <td>Married</td>\n",
       "      <td>58293.0</td>\n",
       "      <td>1</td>\n",
       "      <td>0</td>\n",
       "      <td>19-01-2014</td>\n",
       "      <td>94</td>\n",
       "      <td>173</td>\n",
       "      <td>43</td>\n",
       "      <td>118</td>\n",
       "      <td>46</td>\n",
       "      <td>27</td>\n",
       "      <td>15</td>\n",
       "      <td>5</td>\n",
       "      <td>5</td>\n",
       "      <td>3</td>\n",
       "      <td>6</td>\n",
       "      <td>5</td>\n",
       "      <td>0</td>\n",
       "      <td>0</td>\n",
       "      <td>0</td>\n",
       "      <td>0</td>\n",
       "      <td>0</td>\n",
       "      <td>0</td>\n",
       "      <td>3</td>\n",
       "      <td>11</td>\n",
       "      <td>0</td>\n",
       "    </tr>\n",
       "  </tbody>\n",
       "</table>\n",
       "</div>"
      ],
      "text/plain": [
       "     ID  Year_Birth   Education Marital_Status   Income  Kidhome  Teenhome  \\\n",
       "0  5524        1957  Graduation         Single  58138.0        0         0   \n",
       "1  2174        1954  Graduation         Single  46344.0        1         1   \n",
       "2  4141        1965  Graduation       Together  71613.0        0         0   \n",
       "3  6182        1984  Graduation       Together  26646.0        1         0   \n",
       "4  5324        1981         PhD        Married  58293.0        1         0   \n",
       "\n",
       "  Dt_Customer  Recency  MntWines  MntFruits  MntMeatProducts  MntFishProducts  \\\n",
       "0  04-09-2012       58       635         88              546              172   \n",
       "1  08-03-2014       38        11          1                6                2   \n",
       "2  21-08-2013       26       426         49              127              111   \n",
       "3  10-02-2014       26        11          4               20               10   \n",
       "4  19-01-2014       94       173         43              118               46   \n",
       "\n",
       "   MntSweetProducts  MntGoldProds  NumDealsPurchases  NumWebPurchases  \\\n",
       "0                88            88                  3                8   \n",
       "1                 1             6                  2                1   \n",
       "2                21            42                  1                8   \n",
       "3                 3             5                  2                2   \n",
       "4                27            15                  5                5   \n",
       "\n",
       "   NumCatalogPurchases  NumStorePurchases  NumWebVisitsMonth  AcceptedCmp3  \\\n",
       "0                   10                  4                  7             0   \n",
       "1                    1                  2                  5             0   \n",
       "2                    2                 10                  4             0   \n",
       "3                    0                  4                  6             0   \n",
       "4                    3                  6                  5             0   \n",
       "\n",
       "   AcceptedCmp4  AcceptedCmp5  AcceptedCmp1  AcceptedCmp2  Complain  \\\n",
       "0             0             0             0             0         0   \n",
       "1             0             0             0             0         0   \n",
       "2             0             0             0             0         0   \n",
       "3             0             0             0             0         0   \n",
       "4             0             0             0             0         0   \n",
       "\n",
       "   Z_CostContact  Z_Revenue  Response  \n",
       "0              3         11         1  \n",
       "1              3         11         0  \n",
       "2              3         11         0  \n",
       "3              3         11         0  \n",
       "4              3         11         0  "
      ]
     },
     "execution_count": 2,
     "metadata": {},
     "output_type": "execute_result"
    }
   ],
   "source": [
    "# Membaca data CSV dengan menampilkan data 5 baris pertama\n",
    "pd.set_option('display.max_columns', None)\n",
    "\n",
    "df = pd.read_csv('marketing_campaign.csv', sep='\\t')\n",
    "df.head()"
   ]
  },
  {
   "cell_type": "markdown",
   "metadata": {},
   "source": [
    "## **Data Wrangling**\n",
    "---"
   ]
  },
  {
   "cell_type": "markdown",
   "metadata": {},
   "source": [
    "### **Check Informasi Dataset**"
   ]
  },
  {
   "cell_type": "code",
   "execution_count": 3,
   "metadata": {},
   "outputs": [
    {
     "name": "stdout",
     "output_type": "stream",
     "text": [
      "Jumlah baris dataset: 2240\n",
      "Jumlah kolom dataset: 29\n"
     ]
    }
   ],
   "source": [
    "print(f'Jumlah baris dataset: {df.shape[0]}\\nJumlah kolom dataset: {df.shape[1]}')"
   ]
  },
  {
   "cell_type": "code",
   "execution_count": 4,
   "metadata": {},
   "outputs": [
    {
     "name": "stdout",
     "output_type": "stream",
     "text": [
      "<class 'pandas.core.frame.DataFrame'>\n",
      "RangeIndex: 2240 entries, 0 to 2239\n",
      "Data columns (total 29 columns):\n",
      " #   Column               Non-Null Count  Dtype  \n",
      "---  ------               --------------  -----  \n",
      " 0   ID                   2240 non-null   int64  \n",
      " 1   Year_Birth           2240 non-null   int64  \n",
      " 2   Education            2240 non-null   object \n",
      " 3   Marital_Status       2240 non-null   object \n",
      " 4   Income               2216 non-null   float64\n",
      " 5   Kidhome              2240 non-null   int64  \n",
      " 6   Teenhome             2240 non-null   int64  \n",
      " 7   Dt_Customer          2240 non-null   object \n",
      " 8   Recency              2240 non-null   int64  \n",
      " 9   MntWines             2240 non-null   int64  \n",
      " 10  MntFruits            2240 non-null   int64  \n",
      " 11  MntMeatProducts      2240 non-null   int64  \n",
      " 12  MntFishProducts      2240 non-null   int64  \n",
      " 13  MntSweetProducts     2240 non-null   int64  \n",
      " 14  MntGoldProds         2240 non-null   int64  \n",
      " 15  NumDealsPurchases    2240 non-null   int64  \n",
      " 16  NumWebPurchases      2240 non-null   int64  \n",
      " 17  NumCatalogPurchases  2240 non-null   int64  \n",
      " 18  NumStorePurchases    2240 non-null   int64  \n",
      " 19  NumWebVisitsMonth    2240 non-null   int64  \n",
      " 20  AcceptedCmp3         2240 non-null   int64  \n",
      " 21  AcceptedCmp4         2240 non-null   int64  \n",
      " 22  AcceptedCmp5         2240 non-null   int64  \n",
      " 23  AcceptedCmp1         2240 non-null   int64  \n",
      " 24  AcceptedCmp2         2240 non-null   int64  \n",
      " 25  Complain             2240 non-null   int64  \n",
      " 26  Z_CostContact        2240 non-null   int64  \n",
      " 27  Z_Revenue            2240 non-null   int64  \n",
      " 28  Response             2240 non-null   int64  \n",
      "dtypes: float64(1), int64(25), object(3)\n",
      "memory usage: 507.6+ KB\n"
     ]
    }
   ],
   "source": [
    "df.info()"
   ]
  },
  {
   "cell_type": "code",
   "execution_count": 5,
   "metadata": {},
   "outputs": [
    {
     "data": {
      "text/html": [
       "<div>\n",
       "<style scoped>\n",
       "    .dataframe tbody tr th:only-of-type {\n",
       "        vertical-align: middle;\n",
       "    }\n",
       "\n",
       "    .dataframe tbody tr th {\n",
       "        vertical-align: top;\n",
       "    }\n",
       "\n",
       "    .dataframe thead th {\n",
       "        text-align: right;\n",
       "    }\n",
       "</style>\n",
       "<table border=\"1\" class=\"dataframe\">\n",
       "  <thead>\n",
       "    <tr style=\"text-align: right;\">\n",
       "      <th></th>\n",
       "      <th>ID</th>\n",
       "      <th>Year_Birth</th>\n",
       "      <th>Income</th>\n",
       "      <th>Kidhome</th>\n",
       "      <th>Teenhome</th>\n",
       "      <th>Recency</th>\n",
       "      <th>MntWines</th>\n",
       "      <th>MntFruits</th>\n",
       "      <th>MntMeatProducts</th>\n",
       "      <th>MntFishProducts</th>\n",
       "      <th>MntSweetProducts</th>\n",
       "      <th>MntGoldProds</th>\n",
       "      <th>NumDealsPurchases</th>\n",
       "      <th>NumWebPurchases</th>\n",
       "      <th>NumCatalogPurchases</th>\n",
       "      <th>NumStorePurchases</th>\n",
       "      <th>NumWebVisitsMonth</th>\n",
       "      <th>AcceptedCmp3</th>\n",
       "      <th>AcceptedCmp4</th>\n",
       "      <th>AcceptedCmp5</th>\n",
       "      <th>AcceptedCmp1</th>\n",
       "      <th>AcceptedCmp2</th>\n",
       "      <th>Complain</th>\n",
       "      <th>Z_CostContact</th>\n",
       "      <th>Z_Revenue</th>\n",
       "      <th>Response</th>\n",
       "    </tr>\n",
       "  </thead>\n",
       "  <tbody>\n",
       "    <tr>\n",
       "      <th>count</th>\n",
       "      <td>2240.000000</td>\n",
       "      <td>2240.000000</td>\n",
       "      <td>2216.000000</td>\n",
       "      <td>2240.000000</td>\n",
       "      <td>2240.000000</td>\n",
       "      <td>2240.000000</td>\n",
       "      <td>2240.000000</td>\n",
       "      <td>2240.000000</td>\n",
       "      <td>2240.000000</td>\n",
       "      <td>2240.000000</td>\n",
       "      <td>2240.000000</td>\n",
       "      <td>2240.000000</td>\n",
       "      <td>2240.000000</td>\n",
       "      <td>2240.000000</td>\n",
       "      <td>2240.000000</td>\n",
       "      <td>2240.000000</td>\n",
       "      <td>2240.000000</td>\n",
       "      <td>2240.000000</td>\n",
       "      <td>2240.000000</td>\n",
       "      <td>2240.000000</td>\n",
       "      <td>2240.000000</td>\n",
       "      <td>2240.000000</td>\n",
       "      <td>2240.000000</td>\n",
       "      <td>2240.0</td>\n",
       "      <td>2240.0</td>\n",
       "      <td>2240.000000</td>\n",
       "    </tr>\n",
       "    <tr>\n",
       "      <th>mean</th>\n",
       "      <td>5592.159821</td>\n",
       "      <td>1968.805804</td>\n",
       "      <td>52247.251354</td>\n",
       "      <td>0.444196</td>\n",
       "      <td>0.506250</td>\n",
       "      <td>49.109375</td>\n",
       "      <td>303.935714</td>\n",
       "      <td>26.302232</td>\n",
       "      <td>166.950000</td>\n",
       "      <td>37.525446</td>\n",
       "      <td>27.062946</td>\n",
       "      <td>44.021875</td>\n",
       "      <td>2.325000</td>\n",
       "      <td>4.084821</td>\n",
       "      <td>2.662054</td>\n",
       "      <td>5.790179</td>\n",
       "      <td>5.316518</td>\n",
       "      <td>0.072768</td>\n",
       "      <td>0.074554</td>\n",
       "      <td>0.072768</td>\n",
       "      <td>0.064286</td>\n",
       "      <td>0.013393</td>\n",
       "      <td>0.009375</td>\n",
       "      <td>3.0</td>\n",
       "      <td>11.0</td>\n",
       "      <td>0.149107</td>\n",
       "    </tr>\n",
       "    <tr>\n",
       "      <th>std</th>\n",
       "      <td>3246.662198</td>\n",
       "      <td>11.984069</td>\n",
       "      <td>25173.076661</td>\n",
       "      <td>0.538398</td>\n",
       "      <td>0.544538</td>\n",
       "      <td>28.962453</td>\n",
       "      <td>336.597393</td>\n",
       "      <td>39.773434</td>\n",
       "      <td>225.715373</td>\n",
       "      <td>54.628979</td>\n",
       "      <td>41.280498</td>\n",
       "      <td>52.167439</td>\n",
       "      <td>1.932238</td>\n",
       "      <td>2.778714</td>\n",
       "      <td>2.923101</td>\n",
       "      <td>3.250958</td>\n",
       "      <td>2.426645</td>\n",
       "      <td>0.259813</td>\n",
       "      <td>0.262728</td>\n",
       "      <td>0.259813</td>\n",
       "      <td>0.245316</td>\n",
       "      <td>0.114976</td>\n",
       "      <td>0.096391</td>\n",
       "      <td>0.0</td>\n",
       "      <td>0.0</td>\n",
       "      <td>0.356274</td>\n",
       "    </tr>\n",
       "    <tr>\n",
       "      <th>min</th>\n",
       "      <td>0.000000</td>\n",
       "      <td>1893.000000</td>\n",
       "      <td>1730.000000</td>\n",
       "      <td>0.000000</td>\n",
       "      <td>0.000000</td>\n",
       "      <td>0.000000</td>\n",
       "      <td>0.000000</td>\n",
       "      <td>0.000000</td>\n",
       "      <td>0.000000</td>\n",
       "      <td>0.000000</td>\n",
       "      <td>0.000000</td>\n",
       "      <td>0.000000</td>\n",
       "      <td>0.000000</td>\n",
       "      <td>0.000000</td>\n",
       "      <td>0.000000</td>\n",
       "      <td>0.000000</td>\n",
       "      <td>0.000000</td>\n",
       "      <td>0.000000</td>\n",
       "      <td>0.000000</td>\n",
       "      <td>0.000000</td>\n",
       "      <td>0.000000</td>\n",
       "      <td>0.000000</td>\n",
       "      <td>0.000000</td>\n",
       "      <td>3.0</td>\n",
       "      <td>11.0</td>\n",
       "      <td>0.000000</td>\n",
       "    </tr>\n",
       "    <tr>\n",
       "      <th>25%</th>\n",
       "      <td>2828.250000</td>\n",
       "      <td>1959.000000</td>\n",
       "      <td>35303.000000</td>\n",
       "      <td>0.000000</td>\n",
       "      <td>0.000000</td>\n",
       "      <td>24.000000</td>\n",
       "      <td>23.750000</td>\n",
       "      <td>1.000000</td>\n",
       "      <td>16.000000</td>\n",
       "      <td>3.000000</td>\n",
       "      <td>1.000000</td>\n",
       "      <td>9.000000</td>\n",
       "      <td>1.000000</td>\n",
       "      <td>2.000000</td>\n",
       "      <td>0.000000</td>\n",
       "      <td>3.000000</td>\n",
       "      <td>3.000000</td>\n",
       "      <td>0.000000</td>\n",
       "      <td>0.000000</td>\n",
       "      <td>0.000000</td>\n",
       "      <td>0.000000</td>\n",
       "      <td>0.000000</td>\n",
       "      <td>0.000000</td>\n",
       "      <td>3.0</td>\n",
       "      <td>11.0</td>\n",
       "      <td>0.000000</td>\n",
       "    </tr>\n",
       "    <tr>\n",
       "      <th>50%</th>\n",
       "      <td>5458.500000</td>\n",
       "      <td>1970.000000</td>\n",
       "      <td>51381.500000</td>\n",
       "      <td>0.000000</td>\n",
       "      <td>0.000000</td>\n",
       "      <td>49.000000</td>\n",
       "      <td>173.500000</td>\n",
       "      <td>8.000000</td>\n",
       "      <td>67.000000</td>\n",
       "      <td>12.000000</td>\n",
       "      <td>8.000000</td>\n",
       "      <td>24.000000</td>\n",
       "      <td>2.000000</td>\n",
       "      <td>4.000000</td>\n",
       "      <td>2.000000</td>\n",
       "      <td>5.000000</td>\n",
       "      <td>6.000000</td>\n",
       "      <td>0.000000</td>\n",
       "      <td>0.000000</td>\n",
       "      <td>0.000000</td>\n",
       "      <td>0.000000</td>\n",
       "      <td>0.000000</td>\n",
       "      <td>0.000000</td>\n",
       "      <td>3.0</td>\n",
       "      <td>11.0</td>\n",
       "      <td>0.000000</td>\n",
       "    </tr>\n",
       "    <tr>\n",
       "      <th>75%</th>\n",
       "      <td>8427.750000</td>\n",
       "      <td>1977.000000</td>\n",
       "      <td>68522.000000</td>\n",
       "      <td>1.000000</td>\n",
       "      <td>1.000000</td>\n",
       "      <td>74.000000</td>\n",
       "      <td>504.250000</td>\n",
       "      <td>33.000000</td>\n",
       "      <td>232.000000</td>\n",
       "      <td>50.000000</td>\n",
       "      <td>33.000000</td>\n",
       "      <td>56.000000</td>\n",
       "      <td>3.000000</td>\n",
       "      <td>6.000000</td>\n",
       "      <td>4.000000</td>\n",
       "      <td>8.000000</td>\n",
       "      <td>7.000000</td>\n",
       "      <td>0.000000</td>\n",
       "      <td>0.000000</td>\n",
       "      <td>0.000000</td>\n",
       "      <td>0.000000</td>\n",
       "      <td>0.000000</td>\n",
       "      <td>0.000000</td>\n",
       "      <td>3.0</td>\n",
       "      <td>11.0</td>\n",
       "      <td>0.000000</td>\n",
       "    </tr>\n",
       "    <tr>\n",
       "      <th>max</th>\n",
       "      <td>11191.000000</td>\n",
       "      <td>1996.000000</td>\n",
       "      <td>666666.000000</td>\n",
       "      <td>2.000000</td>\n",
       "      <td>2.000000</td>\n",
       "      <td>99.000000</td>\n",
       "      <td>1493.000000</td>\n",
       "      <td>199.000000</td>\n",
       "      <td>1725.000000</td>\n",
       "      <td>259.000000</td>\n",
       "      <td>263.000000</td>\n",
       "      <td>362.000000</td>\n",
       "      <td>15.000000</td>\n",
       "      <td>27.000000</td>\n",
       "      <td>28.000000</td>\n",
       "      <td>13.000000</td>\n",
       "      <td>20.000000</td>\n",
       "      <td>1.000000</td>\n",
       "      <td>1.000000</td>\n",
       "      <td>1.000000</td>\n",
       "      <td>1.000000</td>\n",
       "      <td>1.000000</td>\n",
       "      <td>1.000000</td>\n",
       "      <td>3.0</td>\n",
       "      <td>11.0</td>\n",
       "      <td>1.000000</td>\n",
       "    </tr>\n",
       "  </tbody>\n",
       "</table>\n",
       "</div>"
      ],
      "text/plain": [
       "                 ID   Year_Birth         Income      Kidhome     Teenhome  \\\n",
       "count   2240.000000  2240.000000    2216.000000  2240.000000  2240.000000   \n",
       "mean    5592.159821  1968.805804   52247.251354     0.444196     0.506250   \n",
       "std     3246.662198    11.984069   25173.076661     0.538398     0.544538   \n",
       "min        0.000000  1893.000000    1730.000000     0.000000     0.000000   \n",
       "25%     2828.250000  1959.000000   35303.000000     0.000000     0.000000   \n",
       "50%     5458.500000  1970.000000   51381.500000     0.000000     0.000000   \n",
       "75%     8427.750000  1977.000000   68522.000000     1.000000     1.000000   \n",
       "max    11191.000000  1996.000000  666666.000000     2.000000     2.000000   \n",
       "\n",
       "           Recency     MntWines    MntFruits  MntMeatProducts  \\\n",
       "count  2240.000000  2240.000000  2240.000000      2240.000000   \n",
       "mean     49.109375   303.935714    26.302232       166.950000   \n",
       "std      28.962453   336.597393    39.773434       225.715373   \n",
       "min       0.000000     0.000000     0.000000         0.000000   \n",
       "25%      24.000000    23.750000     1.000000        16.000000   \n",
       "50%      49.000000   173.500000     8.000000        67.000000   \n",
       "75%      74.000000   504.250000    33.000000       232.000000   \n",
       "max      99.000000  1493.000000   199.000000      1725.000000   \n",
       "\n",
       "       MntFishProducts  MntSweetProducts  MntGoldProds  NumDealsPurchases  \\\n",
       "count      2240.000000       2240.000000   2240.000000        2240.000000   \n",
       "mean         37.525446         27.062946     44.021875           2.325000   \n",
       "std          54.628979         41.280498     52.167439           1.932238   \n",
       "min           0.000000          0.000000      0.000000           0.000000   \n",
       "25%           3.000000          1.000000      9.000000           1.000000   \n",
       "50%          12.000000          8.000000     24.000000           2.000000   \n",
       "75%          50.000000         33.000000     56.000000           3.000000   \n",
       "max         259.000000        263.000000    362.000000          15.000000   \n",
       "\n",
       "       NumWebPurchases  NumCatalogPurchases  NumStorePurchases  \\\n",
       "count      2240.000000          2240.000000        2240.000000   \n",
       "mean          4.084821             2.662054           5.790179   \n",
       "std           2.778714             2.923101           3.250958   \n",
       "min           0.000000             0.000000           0.000000   \n",
       "25%           2.000000             0.000000           3.000000   \n",
       "50%           4.000000             2.000000           5.000000   \n",
       "75%           6.000000             4.000000           8.000000   \n",
       "max          27.000000            28.000000          13.000000   \n",
       "\n",
       "       NumWebVisitsMonth  AcceptedCmp3  AcceptedCmp4  AcceptedCmp5  \\\n",
       "count        2240.000000   2240.000000   2240.000000   2240.000000   \n",
       "mean            5.316518      0.072768      0.074554      0.072768   \n",
       "std             2.426645      0.259813      0.262728      0.259813   \n",
       "min             0.000000      0.000000      0.000000      0.000000   \n",
       "25%             3.000000      0.000000      0.000000      0.000000   \n",
       "50%             6.000000      0.000000      0.000000      0.000000   \n",
       "75%             7.000000      0.000000      0.000000      0.000000   \n",
       "max            20.000000      1.000000      1.000000      1.000000   \n",
       "\n",
       "       AcceptedCmp1  AcceptedCmp2     Complain  Z_CostContact  Z_Revenue  \\\n",
       "count   2240.000000   2240.000000  2240.000000         2240.0     2240.0   \n",
       "mean       0.064286      0.013393     0.009375            3.0       11.0   \n",
       "std        0.245316      0.114976     0.096391            0.0        0.0   \n",
       "min        0.000000      0.000000     0.000000            3.0       11.0   \n",
       "25%        0.000000      0.000000     0.000000            3.0       11.0   \n",
       "50%        0.000000      0.000000     0.000000            3.0       11.0   \n",
       "75%        0.000000      0.000000     0.000000            3.0       11.0   \n",
       "max        1.000000      1.000000     1.000000            3.0       11.0   \n",
       "\n",
       "          Response  \n",
       "count  2240.000000  \n",
       "mean      0.149107  \n",
       "std       0.356274  \n",
       "min       0.000000  \n",
       "25%       0.000000  \n",
       "50%       0.000000  \n",
       "75%       0.000000  \n",
       "max       1.000000  "
      ]
     },
     "metadata": {},
     "output_type": "display_data"
    },
    {
     "data": {
      "text/html": [
       "<div>\n",
       "<style scoped>\n",
       "    .dataframe tbody tr th:only-of-type {\n",
       "        vertical-align: middle;\n",
       "    }\n",
       "\n",
       "    .dataframe tbody tr th {\n",
       "        vertical-align: top;\n",
       "    }\n",
       "\n",
       "    .dataframe thead th {\n",
       "        text-align: right;\n",
       "    }\n",
       "</style>\n",
       "<table border=\"1\" class=\"dataframe\">\n",
       "  <thead>\n",
       "    <tr style=\"text-align: right;\">\n",
       "      <th></th>\n",
       "      <th>Education</th>\n",
       "      <th>Marital_Status</th>\n",
       "      <th>Dt_Customer</th>\n",
       "    </tr>\n",
       "  </thead>\n",
       "  <tbody>\n",
       "    <tr>\n",
       "      <th>count</th>\n",
       "      <td>2240</td>\n",
       "      <td>2240</td>\n",
       "      <td>2240</td>\n",
       "    </tr>\n",
       "    <tr>\n",
       "      <th>unique</th>\n",
       "      <td>5</td>\n",
       "      <td>8</td>\n",
       "      <td>663</td>\n",
       "    </tr>\n",
       "    <tr>\n",
       "      <th>top</th>\n",
       "      <td>Graduation</td>\n",
       "      <td>Married</td>\n",
       "      <td>31-08-2012</td>\n",
       "    </tr>\n",
       "    <tr>\n",
       "      <th>freq</th>\n",
       "      <td>1127</td>\n",
       "      <td>864</td>\n",
       "      <td>12</td>\n",
       "    </tr>\n",
       "  </tbody>\n",
       "</table>\n",
       "</div>"
      ],
      "text/plain": [
       "         Education Marital_Status Dt_Customer\n",
       "count         2240           2240        2240\n",
       "unique           5              8         663\n",
       "top     Graduation        Married  31-08-2012\n",
       "freq          1127            864          12"
      ]
     },
     "metadata": {},
     "output_type": "display_data"
    }
   ],
   "source": [
    "display(df.describe(), df.describe(include='object'))"
   ]
  },
  {
   "cell_type": "markdown",
   "metadata": {},
   "source": [
    "<u>Observasi</u>\n",
    "\n",
    "- Terdapat 3 variabel dengan tipe data object yaitu `Education`, `Marital_Status`, dan `Dt_Customer`:\n",
    "    - `Education` terdapat 5 nilai unik. Akan dikelompokkan menjadi kelompok yang lebih sederhana\n",
    "    - `Marital_Status` terdapat 8 nilai unik. Akan dikelompokkan menjadi kelompok yang lebih sederhana\n",
    "    - `Dt_Customer` akan diubah menjadi tipe datetime.\n",
    "- Variabel lainnya berupa data numerikal (integer / float)."
   ]
  },
  {
   "cell_type": "markdown",
   "metadata": {},
   "source": [
    "### Check Duplikat Data"
   ]
  },
  {
   "cell_type": "code",
   "execution_count": 6,
   "metadata": {},
   "outputs": [
    {
     "name": "stdout",
     "output_type": "stream",
     "text": [
      " Jumlah data yang memiliki duplikat: 0\n"
     ]
    }
   ],
   "source": [
    "print(f' Jumlah data yang memiliki duplikat: {df.duplicated().sum()}')"
   ]
  },
  {
   "cell_type": "markdown",
   "metadata": {},
   "source": [
    "### Check Missing & Unique Values"
   ]
  },
  {
   "cell_type": "code",
   "execution_count": 7,
   "metadata": {},
   "outputs": [
    {
     "data": {
      "text/html": [
       "<div>\n",
       "<style scoped>\n",
       "    .dataframe tbody tr th:only-of-type {\n",
       "        vertical-align: middle;\n",
       "    }\n",
       "\n",
       "    .dataframe tbody tr th {\n",
       "        vertical-align: top;\n",
       "    }\n",
       "\n",
       "    .dataframe thead th {\n",
       "        text-align: right;\n",
       "    }\n",
       "</style>\n",
       "<table border=\"1\" class=\"dataframe\">\n",
       "  <thead>\n",
       "    <tr style=\"text-align: right;\">\n",
       "      <th></th>\n",
       "      <th>Column</th>\n",
       "      <th>Null</th>\n",
       "      <th>% Null</th>\n",
       "      <th>No. Unique Values</th>\n",
       "      <th>Sample of Unique Values</th>\n",
       "    </tr>\n",
       "  </thead>\n",
       "  <tbody>\n",
       "    <tr>\n",
       "      <th>0</th>\n",
       "      <td>ID</td>\n",
       "      <td>0</td>\n",
       "      <td>0.00</td>\n",
       "      <td>2240</td>\n",
       "      <td>[3599, 9668]</td>\n",
       "    </tr>\n",
       "    <tr>\n",
       "      <th>1</th>\n",
       "      <td>Year_Birth</td>\n",
       "      <td>0</td>\n",
       "      <td>0.00</td>\n",
       "      <td>59</td>\n",
       "      <td>[1981, 1973]</td>\n",
       "    </tr>\n",
       "    <tr>\n",
       "      <th>2</th>\n",
       "      <td>Education</td>\n",
       "      <td>0</td>\n",
       "      <td>0.00</td>\n",
       "      <td>5</td>\n",
       "      <td>[Graduation, Graduation]</td>\n",
       "    </tr>\n",
       "    <tr>\n",
       "      <th>3</th>\n",
       "      <td>Marital_Status</td>\n",
       "      <td>0</td>\n",
       "      <td>0.00</td>\n",
       "      <td>8</td>\n",
       "      <td>[Single, Married]</td>\n",
       "    </tr>\n",
       "    <tr>\n",
       "      <th>4</th>\n",
       "      <td>Income</td>\n",
       "      <td>24</td>\n",
       "      <td>1.07</td>\n",
       "      <td>1974</td>\n",
       "      <td>[94472.0, 19656.0]</td>\n",
       "    </tr>\n",
       "    <tr>\n",
       "      <th>5</th>\n",
       "      <td>Kidhome</td>\n",
       "      <td>0</td>\n",
       "      <td>0.00</td>\n",
       "      <td>3</td>\n",
       "      <td>[0, 1]</td>\n",
       "    </tr>\n",
       "    <tr>\n",
       "      <th>6</th>\n",
       "      <td>Teenhome</td>\n",
       "      <td>0</td>\n",
       "      <td>0.00</td>\n",
       "      <td>3</td>\n",
       "      <td>[1, 1]</td>\n",
       "    </tr>\n",
       "    <tr>\n",
       "      <th>7</th>\n",
       "      <td>Dt_Customer</td>\n",
       "      <td>0</td>\n",
       "      <td>0.00</td>\n",
       "      <td>663</td>\n",
       "      <td>[19-09-2013, 23-11-2013]</td>\n",
       "    </tr>\n",
       "    <tr>\n",
       "      <th>8</th>\n",
       "      <td>Recency</td>\n",
       "      <td>0</td>\n",
       "      <td>0.00</td>\n",
       "      <td>100</td>\n",
       "      <td>[23, 48]</td>\n",
       "    </tr>\n",
       "    <tr>\n",
       "      <th>9</th>\n",
       "      <td>MntWines</td>\n",
       "      <td>0</td>\n",
       "      <td>0.00</td>\n",
       "      <td>776</td>\n",
       "      <td>[292, 19]</td>\n",
       "    </tr>\n",
       "    <tr>\n",
       "      <th>10</th>\n",
       "      <td>MntFruits</td>\n",
       "      <td>0</td>\n",
       "      <td>0.00</td>\n",
       "      <td>158</td>\n",
       "      <td>[3, 3]</td>\n",
       "    </tr>\n",
       "    <tr>\n",
       "      <th>11</th>\n",
       "      <td>MntMeatProducts</td>\n",
       "      <td>0</td>\n",
       "      <td>0.00</td>\n",
       "      <td>558</td>\n",
       "      <td>[832, 13]</td>\n",
       "    </tr>\n",
       "    <tr>\n",
       "      <th>12</th>\n",
       "      <td>MntFishProducts</td>\n",
       "      <td>0</td>\n",
       "      <td>0.00</td>\n",
       "      <td>182</td>\n",
       "      <td>[123, 17]</td>\n",
       "    </tr>\n",
       "    <tr>\n",
       "      <th>13</th>\n",
       "      <td>MntSweetProducts</td>\n",
       "      <td>0</td>\n",
       "      <td>0.00</td>\n",
       "      <td>177</td>\n",
       "      <td>[24, 126]</td>\n",
       "    </tr>\n",
       "    <tr>\n",
       "      <th>14</th>\n",
       "      <td>MntGoldProds</td>\n",
       "      <td>0</td>\n",
       "      <td>0.00</td>\n",
       "      <td>213</td>\n",
       "      <td>[22, 2]</td>\n",
       "    </tr>\n",
       "    <tr>\n",
       "      <th>15</th>\n",
       "      <td>NumDealsPurchases</td>\n",
       "      <td>0</td>\n",
       "      <td>0.00</td>\n",
       "      <td>15</td>\n",
       "      <td>[1, 3]</td>\n",
       "    </tr>\n",
       "    <tr>\n",
       "      <th>16</th>\n",
       "      <td>NumWebPurchases</td>\n",
       "      <td>0</td>\n",
       "      <td>0.00</td>\n",
       "      <td>15</td>\n",
       "      <td>[6, 2]</td>\n",
       "    </tr>\n",
       "    <tr>\n",
       "      <th>17</th>\n",
       "      <td>NumCatalogPurchases</td>\n",
       "      <td>0</td>\n",
       "      <td>0.00</td>\n",
       "      <td>14</td>\n",
       "      <td>[5, 5]</td>\n",
       "    </tr>\n",
       "    <tr>\n",
       "      <th>18</th>\n",
       "      <td>NumStorePurchases</td>\n",
       "      <td>0</td>\n",
       "      <td>0.00</td>\n",
       "      <td>14</td>\n",
       "      <td>[3, 3]</td>\n",
       "    </tr>\n",
       "    <tr>\n",
       "      <th>19</th>\n",
       "      <td>NumWebVisitsMonth</td>\n",
       "      <td>0</td>\n",
       "      <td>0.00</td>\n",
       "      <td>16</td>\n",
       "      <td>[4, 7]</td>\n",
       "    </tr>\n",
       "    <tr>\n",
       "      <th>20</th>\n",
       "      <td>AcceptedCmp3</td>\n",
       "      <td>0</td>\n",
       "      <td>0.00</td>\n",
       "      <td>2</td>\n",
       "      <td>[0, 0]</td>\n",
       "    </tr>\n",
       "    <tr>\n",
       "      <th>21</th>\n",
       "      <td>AcceptedCmp4</td>\n",
       "      <td>0</td>\n",
       "      <td>0.00</td>\n",
       "      <td>2</td>\n",
       "      <td>[0, 0]</td>\n",
       "    </tr>\n",
       "    <tr>\n",
       "      <th>22</th>\n",
       "      <td>AcceptedCmp5</td>\n",
       "      <td>0</td>\n",
       "      <td>0.00</td>\n",
       "      <td>2</td>\n",
       "      <td>[0, 0]</td>\n",
       "    </tr>\n",
       "    <tr>\n",
       "      <th>23</th>\n",
       "      <td>AcceptedCmp1</td>\n",
       "      <td>0</td>\n",
       "      <td>0.00</td>\n",
       "      <td>2</td>\n",
       "      <td>[0, 0]</td>\n",
       "    </tr>\n",
       "    <tr>\n",
       "      <th>24</th>\n",
       "      <td>AcceptedCmp2</td>\n",
       "      <td>0</td>\n",
       "      <td>0.00</td>\n",
       "      <td>2</td>\n",
       "      <td>[0, 0]</td>\n",
       "    </tr>\n",
       "    <tr>\n",
       "      <th>25</th>\n",
       "      <td>Complain</td>\n",
       "      <td>0</td>\n",
       "      <td>0.00</td>\n",
       "      <td>2</td>\n",
       "      <td>[0, 0]</td>\n",
       "    </tr>\n",
       "    <tr>\n",
       "      <th>26</th>\n",
       "      <td>Z_CostContact</td>\n",
       "      <td>0</td>\n",
       "      <td>0.00</td>\n",
       "      <td>1</td>\n",
       "      <td>[3, 3]</td>\n",
       "    </tr>\n",
       "    <tr>\n",
       "      <th>27</th>\n",
       "      <td>Z_Revenue</td>\n",
       "      <td>0</td>\n",
       "      <td>0.00</td>\n",
       "      <td>1</td>\n",
       "      <td>[11, 11]</td>\n",
       "    </tr>\n",
       "    <tr>\n",
       "      <th>28</th>\n",
       "      <td>Response</td>\n",
       "      <td>0</td>\n",
       "      <td>0.00</td>\n",
       "      <td>2</td>\n",
       "      <td>[0, 0]</td>\n",
       "    </tr>\n",
       "  </tbody>\n",
       "</table>\n",
       "</div>"
      ],
      "text/plain": [
       "                 Column  Null  % Null  No. Unique Values  \\\n",
       "0                    ID     0    0.00               2240   \n",
       "1            Year_Birth     0    0.00                 59   \n",
       "2             Education     0    0.00                  5   \n",
       "3        Marital_Status     0    0.00                  8   \n",
       "4                Income    24    1.07               1974   \n",
       "5               Kidhome     0    0.00                  3   \n",
       "6              Teenhome     0    0.00                  3   \n",
       "7           Dt_Customer     0    0.00                663   \n",
       "8               Recency     0    0.00                100   \n",
       "9              MntWines     0    0.00                776   \n",
       "10            MntFruits     0    0.00                158   \n",
       "11      MntMeatProducts     0    0.00                558   \n",
       "12      MntFishProducts     0    0.00                182   \n",
       "13     MntSweetProducts     0    0.00                177   \n",
       "14         MntGoldProds     0    0.00                213   \n",
       "15    NumDealsPurchases     0    0.00                 15   \n",
       "16      NumWebPurchases     0    0.00                 15   \n",
       "17  NumCatalogPurchases     0    0.00                 14   \n",
       "18    NumStorePurchases     0    0.00                 14   \n",
       "19    NumWebVisitsMonth     0    0.00                 16   \n",
       "20         AcceptedCmp3     0    0.00                  2   \n",
       "21         AcceptedCmp4     0    0.00                  2   \n",
       "22         AcceptedCmp5     0    0.00                  2   \n",
       "23         AcceptedCmp1     0    0.00                  2   \n",
       "24         AcceptedCmp2     0    0.00                  2   \n",
       "25             Complain     0    0.00                  2   \n",
       "26        Z_CostContact     0    0.00                  1   \n",
       "27            Z_Revenue     0    0.00                  1   \n",
       "28             Response     0    0.00                  2   \n",
       "\n",
       "     Sample of Unique Values  \n",
       "0               [3599, 9668]  \n",
       "1               [1981, 1973]  \n",
       "2   [Graduation, Graduation]  \n",
       "3          [Single, Married]  \n",
       "4         [94472.0, 19656.0]  \n",
       "5                     [0, 1]  \n",
       "6                     [1, 1]  \n",
       "7   [19-09-2013, 23-11-2013]  \n",
       "8                   [23, 48]  \n",
       "9                  [292, 19]  \n",
       "10                    [3, 3]  \n",
       "11                 [832, 13]  \n",
       "12                 [123, 17]  \n",
       "13                 [24, 126]  \n",
       "14                   [22, 2]  \n",
       "15                    [1, 3]  \n",
       "16                    [6, 2]  \n",
       "17                    [5, 5]  \n",
       "18                    [3, 3]  \n",
       "19                    [4, 7]  \n",
       "20                    [0, 0]  \n",
       "21                    [0, 0]  \n",
       "22                    [0, 0]  \n",
       "23                    [0, 0]  \n",
       "24                    [0, 0]  \n",
       "25                    [0, 0]  \n",
       "26                    [3, 3]  \n",
       "27                  [11, 11]  \n",
       "28                    [0, 0]  "
      ]
     },
     "execution_count": 7,
     "metadata": {},
     "output_type": "execute_result"
    }
   ],
   "source": [
    "dataDesc = []\n",
    "\n",
    "for i in df.columns:\n",
    "    dataDesc.append([\n",
    "        i,\n",
    "        df[i].isna().sum(),\n",
    "        round((df[i].isna().sum())/(df[i].isna().count())*100,2),\n",
    "        df[i].nunique(),\n",
    "        df[i].sample(2).values\n",
    "    ])\n",
    "\n",
    "pd.DataFrame(data=dataDesc,columns=['Column','Null','% Null','No. Unique Values', 'Sample of Unique Values'])"
   ]
  },
  {
   "cell_type": "markdown",
   "metadata": {},
   "source": [
    "<u>Observasi</u>\n",
    "\n",
    "- `Income` memiliki missing value sebanyak 24 baris (1,07%). \n",
    "- `Z_CostContact` dan `Z_Revenue` memiliki 1 value yang sama pada setiap barisnya."
   ]
  },
  {
   "cell_type": "markdown",
   "metadata": {},
   "source": [
    "### Handling Missing Values\n",
    "\n",
    "Untuk menangani *missing value*, terdapat 2 cara yang dapat dilakukan:\n",
    "1. Mengisi *missing value*\n",
    "2. Menghapus *missing value*\n",
    "\n",
    "Karena jumlah *missing value* dalam dataset ini (var. `Income`) tergolong rendah (1,07%), sehingga saya akan menghapus missing value pada variabel tersebut."
   ]
  },
  {
   "cell_type": "code",
   "execution_count": 8,
   "metadata": {},
   "outputs": [
    {
     "name": "stdout",
     "output_type": "stream",
     "text": [
      "Jumlah missing value saat ini: 0\n"
     ]
    }
   ],
   "source": [
    "df = df.dropna()\n",
    "print(f'Jumlah missing value saat ini: {df.isna().sum().sum()}')"
   ]
  },
  {
   "cell_type": "markdown",
   "metadata": {},
   "source": [
    "### Drop Irrelevant Columns\n",
    "\n",
    "Pada dataset ini, ditemukan bahwa `Z_CostContact` dan `Z_Revenue` memiliki value yang sama pada setiap barisnya dan tidak relevan pada dataset. Sehingga kedua kolom tersebut akan saya drop."
   ]
  },
  {
   "cell_type": "code",
   "execution_count": 9,
   "metadata": {},
   "outputs": [],
   "source": [
    "# Menghapus kolom yang tidak relevan\n",
    "\n",
    "df = df.drop(['Z_CostContact','Z_Revenue'],axis=1)"
   ]
  },
  {
   "cell_type": "markdown",
   "metadata": {},
   "source": [
    "### Kolom `Year_Birth`"
   ]
  },
  {
   "cell_type": "code",
   "execution_count": 10,
   "metadata": {},
   "outputs": [
    {
     "data": {
      "image/png": "[encoded data removed]",
      "text/plain": [
       "<Figure size 720x288 with 1 Axes>"
      ]
     },
     "metadata": {
      "needs_background": "light"
     },
     "output_type": "display_data"
    }
   ],
   "source": [
    "# Check outlier\n",
    "sns.set_theme(style='whitegrid',font='Roboto')\n",
    "\n",
    "plt.figure(figsize=(10,4))\n",
    "sns.boxplot(data=df,x='Year_Birth',color='g')\n",
    "plt.title(\"Boxplot 'Year_Birth'\",size=14);"
   ]
  },
  {
   "cell_type": "code",
   "execution_count": 11,
   "metadata": {},
   "outputs": [
    {
     "name": "stdout",
     "output_type": "stream",
     "text": [
      "Batas lowerbound pada \"Year_Birth\" adalah: 1932\n"
     ]
    }
   ],
   "source": [
    "# Menampilkan nilai batas bawah (lowerbound) pada 'Year_Birth'\n",
    "\n",
    "nilaiIQR = df['Year_Birth'].quantile(0.75)-df['Year_Birth'].quantile(0.25)\n",
    "lowerbound = df['Year_Birth'].quantile(0.25) - (1.5*nilaiIQR)\n",
    "print(f'Batas lowerbound pada \"Year_Birth\" adalah: {lowerbound.astype(int)}')"
   ]
  },
  {
   "cell_type": "code",
   "execution_count": 12,
   "metadata": {},
   "outputs": [
    {
     "data": {
      "text/html": [
       "<div>\n",
       "<style scoped>\n",
       "    .dataframe tbody tr th:only-of-type {\n",
       "        vertical-align: middle;\n",
       "    }\n",
       "\n",
       "    .dataframe tbody tr th {\n",
       "        vertical-align: top;\n",
       "    }\n",
       "\n",
       "    .dataframe thead th {\n",
       "        text-align: right;\n",
       "    }\n",
       "</style>\n",
       "<table border=\"1\" class=\"dataframe\">\n",
       "  <thead>\n",
       "    <tr style=\"text-align: right;\">\n",
       "      <th></th>\n",
       "      <th>ID</th>\n",
       "      <th>Year_Birth</th>\n",
       "      <th>Education</th>\n",
       "      <th>Marital_Status</th>\n",
       "      <th>Income</th>\n",
       "      <th>Kidhome</th>\n",
       "      <th>Teenhome</th>\n",
       "      <th>Dt_Customer</th>\n",
       "      <th>Recency</th>\n",
       "      <th>MntWines</th>\n",
       "      <th>MntFruits</th>\n",
       "      <th>MntMeatProducts</th>\n",
       "      <th>MntFishProducts</th>\n",
       "      <th>MntSweetProducts</th>\n",
       "      <th>MntGoldProds</th>\n",
       "      <th>NumDealsPurchases</th>\n",
       "      <th>NumWebPurchases</th>\n",
       "      <th>NumCatalogPurchases</th>\n",
       "      <th>NumStorePurchases</th>\n",
       "      <th>NumWebVisitsMonth</th>\n",
       "      <th>AcceptedCmp3</th>\n",
       "      <th>AcceptedCmp4</th>\n",
       "      <th>AcceptedCmp5</th>\n",
       "      <th>AcceptedCmp1</th>\n",
       "      <th>AcceptedCmp2</th>\n",
       "      <th>Complain</th>\n",
       "      <th>Response</th>\n",
       "    </tr>\n",
       "  </thead>\n",
       "  <tbody>\n",
       "    <tr>\n",
       "      <th>192</th>\n",
       "      <td>7829</td>\n",
       "      <td>1900</td>\n",
       "      <td>2n Cycle</td>\n",
       "      <td>Divorced</td>\n",
       "      <td>36640.0</td>\n",
       "      <td>1</td>\n",
       "      <td>0</td>\n",
       "      <td>26-09-2013</td>\n",
       "      <td>99</td>\n",
       "      <td>15</td>\n",
       "      <td>6</td>\n",
       "      <td>8</td>\n",
       "      <td>7</td>\n",
       "      <td>4</td>\n",
       "      <td>25</td>\n",
       "      <td>1</td>\n",
       "      <td>2</td>\n",
       "      <td>1</td>\n",
       "      <td>2</td>\n",
       "      <td>5</td>\n",
       "      <td>0</td>\n",
       "      <td>0</td>\n",
       "      <td>0</td>\n",
       "      <td>0</td>\n",
       "      <td>0</td>\n",
       "      <td>1</td>\n",
       "      <td>0</td>\n",
       "    </tr>\n",
       "    <tr>\n",
       "      <th>239</th>\n",
       "      <td>11004</td>\n",
       "      <td>1893</td>\n",
       "      <td>2n Cycle</td>\n",
       "      <td>Single</td>\n",
       "      <td>60182.0</td>\n",
       "      <td>0</td>\n",
       "      <td>1</td>\n",
       "      <td>17-05-2014</td>\n",
       "      <td>23</td>\n",
       "      <td>8</td>\n",
       "      <td>0</td>\n",
       "      <td>5</td>\n",
       "      <td>7</td>\n",
       "      <td>0</td>\n",
       "      <td>2</td>\n",
       "      <td>1</td>\n",
       "      <td>1</td>\n",
       "      <td>0</td>\n",
       "      <td>2</td>\n",
       "      <td>4</td>\n",
       "      <td>0</td>\n",
       "      <td>0</td>\n",
       "      <td>0</td>\n",
       "      <td>0</td>\n",
       "      <td>0</td>\n",
       "      <td>0</td>\n",
       "      <td>0</td>\n",
       "    </tr>\n",
       "    <tr>\n",
       "      <th>339</th>\n",
       "      <td>1150</td>\n",
       "      <td>1899</td>\n",
       "      <td>PhD</td>\n",
       "      <td>Together</td>\n",
       "      <td>83532.0</td>\n",
       "      <td>0</td>\n",
       "      <td>0</td>\n",
       "      <td>26-09-2013</td>\n",
       "      <td>36</td>\n",
       "      <td>755</td>\n",
       "      <td>144</td>\n",
       "      <td>562</td>\n",
       "      <td>104</td>\n",
       "      <td>64</td>\n",
       "      <td>224</td>\n",
       "      <td>1</td>\n",
       "      <td>4</td>\n",
       "      <td>6</td>\n",
       "      <td>4</td>\n",
       "      <td>1</td>\n",
       "      <td>0</td>\n",
       "      <td>0</td>\n",
       "      <td>1</td>\n",
       "      <td>0</td>\n",
       "      <td>0</td>\n",
       "      <td>0</td>\n",
       "      <td>0</td>\n",
       "    </tr>\n",
       "  </tbody>\n",
       "</table>\n",
       "</div>"
      ],
      "text/plain": [
       "        ID  Year_Birth Education Marital_Status   Income  Kidhome  Teenhome  \\\n",
       "192   7829        1900  2n Cycle       Divorced  36640.0        1         0   \n",
       "239  11004        1893  2n Cycle         Single  60182.0        0         1   \n",
       "339   1150        1899       PhD       Together  83532.0        0         0   \n",
       "\n",
       "    Dt_Customer  Recency  MntWines  MntFruits  MntMeatProducts  \\\n",
       "192  26-09-2013       99        15          6                8   \n",
       "239  17-05-2014       23         8          0                5   \n",
       "339  26-09-2013       36       755        144              562   \n",
       "\n",
       "     MntFishProducts  MntSweetProducts  MntGoldProds  NumDealsPurchases  \\\n",
       "192                7                 4            25                  1   \n",
       "239                7                 0             2                  1   \n",
       "339              104                64           224                  1   \n",
       "\n",
       "     NumWebPurchases  NumCatalogPurchases  NumStorePurchases  \\\n",
       "192                2                    1                  2   \n",
       "239                1                    0                  2   \n",
       "339                4                    6                  4   \n",
       "\n",
       "     NumWebVisitsMonth  AcceptedCmp3  AcceptedCmp4  AcceptedCmp5  \\\n",
       "192                  5             0             0             0   \n",
       "239                  4             0             0             0   \n",
       "339                  1             0             0             1   \n",
       "\n",
       "     AcceptedCmp1  AcceptedCmp2  Complain  Response  \n",
       "192             0             0         1         0  \n",
       "239             0             0         0         0  \n",
       "339             0             0         0         0  "
      ]
     },
     "execution_count": 12,
     "metadata": {},
     "output_type": "execute_result"
    }
   ],
   "source": [
    "# Menampilkan data customer yang lahir pada tahun dibawah dari nilai lowerbound\n",
    "\n",
    "outlier_YB = df[df['Year_Birth'] < lowerbound]\n",
    "outlier_YB"
   ]
  },
  {
   "cell_type": "markdown",
   "metadata": {},
   "source": [
    "Pada variabel `Year_Birth`, diketahui bahwa terdapat 3 customer yang lahir pada tahun 1900 ke bawah (outlier). Data outlier ini saya asumsikan sebagai salah input data karena kecil kemungkinan terdapat customer yang berusia diatas 100 tahun. Sehingga data outlier ini akan saya drop."
   ]
  },
  {
   "cell_type": "code",
   "execution_count": 13,
   "metadata": {},
   "outputs": [],
   "source": [
    "# Drop 3 data outlier 'Year_Birth'\n",
    "\n",
    "df = df.drop(outlier_YB.index)"
   ]
  },
  {
   "cell_type": "markdown",
   "metadata": {},
   "source": [
    "Kemudian untuk kebutuhan analisis, saya akan mengubah var. `Year_Birth` menjadi `Age` (berdasarkan tahun 2022) dan dikelompokkan berdasarkan generasinya. Alasannya adalah agar dapat mengetahui karakteristik pembelian produk dan efektivitas *marketing campaign* berdasarkan kelompok usianya. Pengelompokkannya adalah sebagai berikut:\n",
    "1. Young Adult (usia 18-35 tahun)\n",
    "2. Mid-Age Adult (usia 36-55 tahun)\n",
    "3. Older Adult (usia ≥ 56 tahun)"
   ]
  },
  {
   "cell_type": "code",
   "execution_count": 14,
   "metadata": {},
   "outputs": [],
   "source": [
    "# Membuat function pengelompokkan tahun lahir\n",
    "\n",
    "def age_class(umur):\n",
    "    \n",
    "    if 18 <= umur <= 35:\n",
    "        return 'Young Adult'\n",
    "    elif 36 <= umur <= 55:\n",
    "        return 'Mid-Age Adult'\n",
    "    else:\n",
    "        return 'Older Adult'\n",
    "        \n",
    "# Mengubah kolom 'Year_Birth' menjadi kolom 'Age' as per 2022\n",
    "df['Year_Birth'] = 2022 - df['Year_Birth']\n",
    "df.rename(columns={'Year_Birth':'Age'},inplace=True)\n",
    "\n",
    "# Mengelompokkan usia berdasarkan generasinya\n",
    "df['Age_Class'] = df['Age'].apply(age_class)\n",
    "df['Age_Class'] = pd.Categorical(df.Age_Class, categories=['Young Adult','Mid-Age Adult','Older Adult'])"
   ]
  },
  {
   "cell_type": "markdown",
   "metadata": {},
   "source": [
    "### Kolom `Education`\n",
    "\n",
    "Pada var. `Education` terdapat 5 nilai yang berbeda yaitu *Graduation*, *PhD*, *Master*, *2n Cycle*, dan *Basic*. Dikarenakan terdapat nilai yang tidak umum, sehingga saya akan ubah nilai-nilai tersebut menjadi 3 kelompok, yaitu *Bachelor*, *Master*, dan *Doctoral*."
   ]
  },
  {
   "cell_type": "code",
   "execution_count": 15,
   "metadata": {},
   "outputs": [
    {
     "data": {
      "text/plain": [
       "array(['Graduation', 'PhD', 'Master', 'Basic', '2n Cycle'], dtype=object)"
      ]
     },
     "execution_count": 15,
     "metadata": {},
     "output_type": "execute_result"
    }
   ],
   "source": [
    "# Melihat unique value dari var. Education\n",
    "\n",
    "df['Education'].unique()"
   ]
  },
  {
   "cell_type": "code",
   "execution_count": 16,
   "metadata": {},
   "outputs": [
    {
     "data": {
      "text/plain": [
       "['Bachelor', 'Doctoral', 'Master']\n",
       "Categories (3, object): ['Bachelor', 'Master', 'Doctoral']"
      ]
     },
     "execution_count": 16,
     "metadata": {},
     "output_type": "execute_result"
    }
   ],
   "source": [
    "# Mengkategorikan 'Education' menjadi 3 kelompok\n",
    "\n",
    "df['Education'] = df['Education'].replace({'Basic':'Bachelor','Graduation':'Bachelor','2n Cycle':'Master','PhD':'Doctoral'})\n",
    "df['Education'] = pd.Categorical(df.Education, categories=['Bachelor','Master','Doctoral'])\n",
    "df['Education'].unique()"
   ]
  },
  {
   "cell_type": "markdown",
   "metadata": {},
   "source": [
    "### Kolom `Marital_Status`\n",
    "\n",
    "Var. `Marital_Status` juga memiliki 8 nilai yang berbeda yaitu *Married*, *Together*, *Single*, *Divorced*, *Widow*, *Alone*, *Absurd* dan *YOLO*. Dikarenakan terdapat nilai yang tidak umum, sehingga saya akan ubah *Alone*, *Absurd* dan *YOLO* menjadi *Single*."
   ]
  },
  {
   "cell_type": "code",
   "execution_count": 17,
   "metadata": {},
   "outputs": [
    {
     "data": {
      "text/plain": [
       "array(['Single', 'Together', 'Married', 'Divorced', 'Widow', 'Alone',\n",
       "       'Absurd', 'YOLO'], dtype=object)"
      ]
     },
     "execution_count": 17,
     "metadata": {},
     "output_type": "execute_result"
    }
   ],
   "source": [
    "# Melihat unique value dan jumlah valuenya dari var. Marital_Status\n",
    "\n",
    "df['Marital_Status'].unique()"
   ]
  },
  {
   "cell_type": "code",
   "execution_count": 18,
   "metadata": {},
   "outputs": [
    {
     "data": {
      "text/plain": [
       "['Single', 'Together', 'Married', 'Divorced', 'Widow']\n",
       "Categories (5, object): ['Single', 'Together', 'Married', 'Divorced', 'Widow']"
      ]
     },
     "execution_count": 18,
     "metadata": {},
     "output_type": "execute_result"
    }
   ],
   "source": [
    "# Mengkategorikan 'YOLO', 'Absurd', 'Alone' ke dalam 'Single'\n",
    "\n",
    "df['Marital_Status'] = df['Marital_Status'].replace({'YOLO':'Single','Absurd':'Single','Alone':'Single'})\n",
    "df['Marital_Status'] = pd.Categorical(df.Marital_Status, categories=['Single', 'Together', 'Married', 'Divorced', 'Widow'])\n",
    "df['Marital_Status'].unique()"
   ]
  },
  {
   "cell_type": "markdown",
   "metadata": {},
   "source": [
    "### Kolom `Income`"
   ]
  },
  {
   "cell_type": "code",
   "execution_count": 19,
   "metadata": {},
   "outputs": [
    {
     "data": {
      "image/png": "[encoded data removed]",
      "text/plain": [
       "<Figure size 720x288 with 1 Axes>"
      ]
     },
     "metadata": {
      "needs_background": "light"
     },
     "output_type": "display_data"
    }
   ],
   "source": [
    "# Check outlier\n",
    "plt.figure(figsize=(10,4))\n",
    "sns.boxplot(data=df,x='Income',color='g')\n",
    "plt.title(\"Boxplot 'Income'\",size=14);"
   ]
  },
  {
   "cell_type": "code",
   "execution_count": 20,
   "metadata": {},
   "outputs": [
    {
     "name": "stdout",
     "output_type": "stream",
     "text": [
      "Batas upperbound pada \"Income\" adalah: 118348.5\n"
     ]
    }
   ],
   "source": [
    "# Menampilkan nilai batas atas (upperbound) pada 'Income'\n",
    "\n",
    "nilaiIQR = df['Income'].quantile(0.75)-df['Income'].quantile(0.25)\n",
    "upperbound = df['Income'].quantile(0.75) + (1.5*nilaiIQR)\n",
    "print(f'Batas upperbound pada \"Income\" adalah: {upperbound}')"
   ]
  },
  {
   "cell_type": "code",
   "execution_count": 21,
   "metadata": {},
   "outputs": [
    {
     "data": {
      "text/html": [
       "<div>\n",
       "<style scoped>\n",
       "    .dataframe tbody tr th:only-of-type {\n",
       "        vertical-align: middle;\n",
       "    }\n",
       "\n",
       "    .dataframe tbody tr th {\n",
       "        vertical-align: top;\n",
       "    }\n",
       "\n",
       "    .dataframe thead th {\n",
       "        text-align: right;\n",
       "    }\n",
       "</style>\n",
       "<table border=\"1\" class=\"dataframe\">\n",
       "  <thead>\n",
       "    <tr style=\"text-align: right;\">\n",
       "      <th></th>\n",
       "      <th>ID</th>\n",
       "      <th>Age</th>\n",
       "      <th>Education</th>\n",
       "      <th>Marital_Status</th>\n",
       "      <th>Income</th>\n",
       "      <th>Kidhome</th>\n",
       "      <th>Teenhome</th>\n",
       "      <th>Dt_Customer</th>\n",
       "      <th>Recency</th>\n",
       "      <th>MntWines</th>\n",
       "      <th>MntFruits</th>\n",
       "      <th>MntMeatProducts</th>\n",
       "      <th>MntFishProducts</th>\n",
       "      <th>MntSweetProducts</th>\n",
       "      <th>MntGoldProds</th>\n",
       "      <th>NumDealsPurchases</th>\n",
       "      <th>NumWebPurchases</th>\n",
       "      <th>NumCatalogPurchases</th>\n",
       "      <th>NumStorePurchases</th>\n",
       "      <th>NumWebVisitsMonth</th>\n",
       "      <th>AcceptedCmp3</th>\n",
       "      <th>AcceptedCmp4</th>\n",
       "      <th>AcceptedCmp5</th>\n",
       "      <th>AcceptedCmp1</th>\n",
       "      <th>AcceptedCmp2</th>\n",
       "      <th>Complain</th>\n",
       "      <th>Response</th>\n",
       "      <th>Age_Class</th>\n",
       "    </tr>\n",
       "  </thead>\n",
       "  <tbody>\n",
       "    <tr>\n",
       "      <th>2233</th>\n",
       "      <td>9432</td>\n",
       "      <td>45</td>\n",
       "      <td>Bachelor</td>\n",
       "      <td>Together</td>\n",
       "      <td>666666.0</td>\n",
       "      <td>1</td>\n",
       "      <td>0</td>\n",
       "      <td>02-06-2013</td>\n",
       "      <td>23</td>\n",
       "      <td>9</td>\n",
       "      <td>14</td>\n",
       "      <td>18</td>\n",
       "      <td>8</td>\n",
       "      <td>1</td>\n",
       "      <td>12</td>\n",
       "      <td>4</td>\n",
       "      <td>3</td>\n",
       "      <td>1</td>\n",
       "      <td>3</td>\n",
       "      <td>6</td>\n",
       "      <td>0</td>\n",
       "      <td>0</td>\n",
       "      <td>0</td>\n",
       "      <td>0</td>\n",
       "      <td>0</td>\n",
       "      <td>0</td>\n",
       "      <td>0</td>\n",
       "      <td>Mid-Age Adult</td>\n",
       "    </tr>\n",
       "  </tbody>\n",
       "</table>\n",
       "</div>"
      ],
      "text/plain": [
       "        ID  Age Education Marital_Status    Income  Kidhome  Teenhome  \\\n",
       "2233  9432   45  Bachelor       Together  666666.0        1         0   \n",
       "\n",
       "     Dt_Customer  Recency  MntWines  MntFruits  MntMeatProducts  \\\n",
       "2233  02-06-2013       23         9         14               18   \n",
       "\n",
       "      MntFishProducts  MntSweetProducts  MntGoldProds  NumDealsPurchases  \\\n",
       "2233                8                 1            12                  4   \n",
       "\n",
       "      NumWebPurchases  NumCatalogPurchases  NumStorePurchases  \\\n",
       "2233                3                    1                  3   \n",
       "\n",
       "      NumWebVisitsMonth  AcceptedCmp3  AcceptedCmp4  AcceptedCmp5  \\\n",
       "2233                  6             0             0             0   \n",
       "\n",
       "      AcceptedCmp1  AcceptedCmp2  Complain  Response      Age_Class  \n",
       "2233             0             0         0         0  Mid-Age Adult  "
      ]
     },
     "execution_count": 21,
     "metadata": {},
     "output_type": "execute_result"
    }
   ],
   "source": [
    "outlier_I = df[df['Income'] > upperbound].tail(1)\n",
    "outlier_I"
   ]
  },
  {
   "cell_type": "markdown",
   "metadata": {},
   "source": [
    "Pada variabel `Income`, diketahui bahwa datanya tidak terdistribusi normal dan terdapat 1 customer yang memiliki pendapatan lebih dari $600.000 (outlier). Data outlier ini saya asumsikan sebagai salah input data, sehingga data outlier ini akan saya drop."
   ]
  },
  {
   "cell_type": "code",
   "execution_count": 22,
   "metadata": {},
   "outputs": [],
   "source": [
    "# Drop 1 data outlier 'Income'\n",
    "\n",
    "df = df.drop(outlier_I.index)"
   ]
  },
  {
   "cell_type": "markdown",
   "metadata": {},
   "source": [
    "Kemudian untuk kebutuhan analisis, saya akan mengelompokkan pendapatan customer menjadi 3 tipe kategori. Alasan pengelompokkan ini adalah agar dapat mengetahui karakteristik pembelian produk dan efektivitas *marketing campaign* berdasarkan level pendapatannya. Pengelompokkannya adalah sebagai berikut:\n",
    "1. Low (nilai Income sampai nilai quantile-25)\n",
    "2. Medium (nilai quantile-25 sampai nilai quantile-75)\n",
    "3. High (nilai quantile-75 ke atas)"
   ]
  },
  {
   "cell_type": "code",
   "execution_count": 23,
   "metadata": {},
   "outputs": [
    {
     "data": {
      "text/plain": [
       "['Medium', 'High', 'Low']\n",
       "Categories (3, object): ['Low', 'Medium', 'High']"
      ]
     },
     "execution_count": 23,
     "metadata": {},
     "output_type": "execute_result"
    }
   ],
   "source": [
    "df['Income_Class'] = ['Low' if x <= df['Income'].quantile(0.25)\n",
    "                        else 'Medium' if x > df['Income'].quantile(0.25) and x < df['Income'].quantile(0.75)\n",
    "                        else 'High' for x in df['Income'].values]\n",
    "\n",
    "df['Income_Class'] = pd.Categorical(df.Income_Class, categories=['Low','Medium','High'])\n",
    "df['Income_Class'].unique()"
   ]
  },
  {
   "cell_type": "markdown",
   "metadata": {},
   "source": [
    "### Kolom `Kidhome` & `Teenhome`\n",
    "\n",
    "Untuk kedua kolom ini, saya akan menggabungkan nilai dari masing-masing kolom dan mengubah nama kolom menjadi `Num_Children`. Hal ini agar dapat mengetahui proporsi customer berdasarkan jumlah anak yang dimiliki."
   ]
  },
  {
   "cell_type": "code",
   "execution_count": 24,
   "metadata": {},
   "outputs": [],
   "source": [
    "df['Kidhome'] = df['Kidhome'] + df['Teenhome']\n",
    "df.rename(columns={'Kidhome':'Num_Children'},inplace=True)\n",
    "df.drop(columns='Teenhome',inplace=True)"
   ]
  },
  {
   "cell_type": "markdown",
   "metadata": {},
   "source": [
    "### Kolom `Dt_Customer`"
   ]
  },
  {
   "cell_type": "code",
   "execution_count": 25,
   "metadata": {},
   "outputs": [],
   "source": [
    "# Mengubah format tipe data menjadi menjadi datetime\n",
    "df['Dt_Customer'] = pd.to_datetime(df.Dt_Customer, dayfirst=True)"
   ]
  },
  {
   "cell_type": "markdown",
   "metadata": {},
   "source": [
    "### Rename Kolom di Kategori Product"
   ]
  },
  {
   "cell_type": "code",
   "execution_count": 26,
   "metadata": {},
   "outputs": [
    {
     "data": {
      "text/html": [
       "<div>\n",
       "<style scoped>\n",
       "    .dataframe tbody tr th:only-of-type {\n",
       "        vertical-align: middle;\n",
       "    }\n",
       "\n",
       "    .dataframe tbody tr th {\n",
       "        vertical-align: top;\n",
       "    }\n",
       "\n",
       "    .dataframe thead th {\n",
       "        text-align: right;\n",
       "    }\n",
       "</style>\n",
       "<table border=\"1\" class=\"dataframe\">\n",
       "  <thead>\n",
       "    <tr style=\"text-align: right;\">\n",
       "      <th></th>\n",
       "      <th>ID</th>\n",
       "      <th>Age</th>\n",
       "      <th>Education</th>\n",
       "      <th>Marital_Status</th>\n",
       "      <th>Income</th>\n",
       "      <th>Num_Children</th>\n",
       "      <th>Dt_Customer</th>\n",
       "      <th>Recency</th>\n",
       "      <th>Wines</th>\n",
       "      <th>Fruits</th>\n",
       "      <th>Meat</th>\n",
       "      <th>Fish</th>\n",
       "      <th>Sweets</th>\n",
       "      <th>Gold</th>\n",
       "      <th>NumDealsPurchases</th>\n",
       "      <th>NumWebPurchases</th>\n",
       "      <th>NumCatalogPurchases</th>\n",
       "      <th>NumStorePurchases</th>\n",
       "      <th>NumWebVisitsMonth</th>\n",
       "      <th>AcceptedCmp3</th>\n",
       "      <th>AcceptedCmp4</th>\n",
       "      <th>AcceptedCmp5</th>\n",
       "      <th>AcceptedCmp1</th>\n",
       "      <th>AcceptedCmp2</th>\n",
       "      <th>Complain</th>\n",
       "      <th>Response</th>\n",
       "      <th>Age_Class</th>\n",
       "      <th>Income_Class</th>\n",
       "    </tr>\n",
       "  </thead>\n",
       "  <tbody>\n",
       "    <tr>\n",
       "      <th>0</th>\n",
       "      <td>5524</td>\n",
       "      <td>65</td>\n",
       "      <td>Bachelor</td>\n",
       "      <td>Single</td>\n",
       "      <td>58138.0</td>\n",
       "      <td>0</td>\n",
       "      <td>2012-09-04</td>\n",
       "      <td>58</td>\n",
       "      <td>635</td>\n",
       "      <td>88</td>\n",
       "      <td>546</td>\n",
       "      <td>172</td>\n",
       "      <td>88</td>\n",
       "      <td>88</td>\n",
       "      <td>3</td>\n",
       "      <td>8</td>\n",
       "      <td>10</td>\n",
       "      <td>4</td>\n",
       "      <td>7</td>\n",
       "      <td>0</td>\n",
       "      <td>0</td>\n",
       "      <td>0</td>\n",
       "      <td>0</td>\n",
       "      <td>0</td>\n",
       "      <td>0</td>\n",
       "      <td>1</td>\n",
       "      <td>Older Adult</td>\n",
       "      <td>Medium</td>\n",
       "    </tr>\n",
       "    <tr>\n",
       "      <th>1</th>\n",
       "      <td>2174</td>\n",
       "      <td>68</td>\n",
       "      <td>Bachelor</td>\n",
       "      <td>Single</td>\n",
       "      <td>46344.0</td>\n",
       "      <td>2</td>\n",
       "      <td>2014-03-08</td>\n",
       "      <td>38</td>\n",
       "      <td>11</td>\n",
       "      <td>1</td>\n",
       "      <td>6</td>\n",
       "      <td>2</td>\n",
       "      <td>1</td>\n",
       "      <td>6</td>\n",
       "      <td>2</td>\n",
       "      <td>1</td>\n",
       "      <td>1</td>\n",
       "      <td>2</td>\n",
       "      <td>5</td>\n",
       "      <td>0</td>\n",
       "      <td>0</td>\n",
       "      <td>0</td>\n",
       "      <td>0</td>\n",
       "      <td>0</td>\n",
       "      <td>0</td>\n",
       "      <td>0</td>\n",
       "      <td>Older Adult</td>\n",
       "      <td>Medium</td>\n",
       "    </tr>\n",
       "    <tr>\n",
       "      <th>2</th>\n",
       "      <td>4141</td>\n",
       "      <td>57</td>\n",
       "      <td>Bachelor</td>\n",
       "      <td>Together</td>\n",
       "      <td>71613.0</td>\n",
       "      <td>0</td>\n",
       "      <td>2013-08-21</td>\n",
       "      <td>26</td>\n",
       "      <td>426</td>\n",
       "      <td>49</td>\n",
       "      <td>127</td>\n",
       "      <td>111</td>\n",
       "      <td>21</td>\n",
       "      <td>42</td>\n",
       "      <td>1</td>\n",
       "      <td>8</td>\n",
       "      <td>2</td>\n",
       "      <td>10</td>\n",
       "      <td>4</td>\n",
       "      <td>0</td>\n",
       "      <td>0</td>\n",
       "      <td>0</td>\n",
       "      <td>0</td>\n",
       "      <td>0</td>\n",
       "      <td>0</td>\n",
       "      <td>0</td>\n",
       "      <td>Older Adult</td>\n",
       "      <td>High</td>\n",
       "    </tr>\n",
       "    <tr>\n",
       "      <th>3</th>\n",
       "      <td>6182</td>\n",
       "      <td>38</td>\n",
       "      <td>Bachelor</td>\n",
       "      <td>Together</td>\n",
       "      <td>26646.0</td>\n",
       "      <td>1</td>\n",
       "      <td>2014-02-10</td>\n",
       "      <td>26</td>\n",
       "      <td>11</td>\n",
       "      <td>4</td>\n",
       "      <td>20</td>\n",
       "      <td>10</td>\n",
       "      <td>3</td>\n",
       "      <td>5</td>\n",
       "      <td>2</td>\n",
       "      <td>2</td>\n",
       "      <td>0</td>\n",
       "      <td>4</td>\n",
       "      <td>6</td>\n",
       "      <td>0</td>\n",
       "      <td>0</td>\n",
       "      <td>0</td>\n",
       "      <td>0</td>\n",
       "      <td>0</td>\n",
       "      <td>0</td>\n",
       "      <td>0</td>\n",
       "      <td>Mid-Age Adult</td>\n",
       "      <td>Low</td>\n",
       "    </tr>\n",
       "    <tr>\n",
       "      <th>4</th>\n",
       "      <td>5324</td>\n",
       "      <td>41</td>\n",
       "      <td>Doctoral</td>\n",
       "      <td>Married</td>\n",
       "      <td>58293.0</td>\n",
       "      <td>1</td>\n",
       "      <td>2014-01-19</td>\n",
       "      <td>94</td>\n",
       "      <td>173</td>\n",
       "      <td>43</td>\n",
       "      <td>118</td>\n",
       "      <td>46</td>\n",
       "      <td>27</td>\n",
       "      <td>15</td>\n",
       "      <td>5</td>\n",
       "      <td>5</td>\n",
       "      <td>3</td>\n",
       "      <td>6</td>\n",
       "      <td>5</td>\n",
       "      <td>0</td>\n",
       "      <td>0</td>\n",
       "      <td>0</td>\n",
       "      <td>0</td>\n",
       "      <td>0</td>\n",
       "      <td>0</td>\n",
       "      <td>0</td>\n",
       "      <td>Mid-Age Adult</td>\n",
       "      <td>Medium</td>\n",
       "    </tr>\n",
       "  </tbody>\n",
       "</table>\n",
       "</div>"
      ],
      "text/plain": [
       "     ID  Age Education Marital_Status   Income  Num_Children Dt_Customer  \\\n",
       "0  5524   65  Bachelor         Single  58138.0             0  2012-09-04   \n",
       "1  2174   68  Bachelor         Single  46344.0             2  2014-03-08   \n",
       "2  4141   57  Bachelor       Together  71613.0             0  2013-08-21   \n",
       "3  6182   38  Bachelor       Together  26646.0             1  2014-02-10   \n",
       "4  5324   41  Doctoral        Married  58293.0             1  2014-01-19   \n",
       "\n",
       "   Recency  Wines  Fruits  Meat  Fish  Sweets  Gold  NumDealsPurchases  \\\n",
       "0       58    635      88   546   172      88    88                  3   \n",
       "1       38     11       1     6     2       1     6                  2   \n",
       "2       26    426      49   127   111      21    42                  1   \n",
       "3       26     11       4    20    10       3     5                  2   \n",
       "4       94    173      43   118    46      27    15                  5   \n",
       "\n",
       "   NumWebPurchases  NumCatalogPurchases  NumStorePurchases  NumWebVisitsMonth  \\\n",
       "0                8                   10                  4                  7   \n",
       "1                1                    1                  2                  5   \n",
       "2                8                    2                 10                  4   \n",
       "3                2                    0                  4                  6   \n",
       "4                5                    3                  6                  5   \n",
       "\n",
       "   AcceptedCmp3  AcceptedCmp4  AcceptedCmp5  AcceptedCmp1  AcceptedCmp2  \\\n",
       "0             0             0             0             0             0   \n",
       "1             0             0             0             0             0   \n",
       "2             0             0             0             0             0   \n",
       "3             0             0             0             0             0   \n",
       "4             0             0             0             0             0   \n",
       "\n",
       "   Complain  Response      Age_Class Income_Class  \n",
       "0         0         1    Older Adult       Medium  \n",
       "1         0         0    Older Adult       Medium  \n",
       "2         0         0    Older Adult         High  \n",
       "3         0         0  Mid-Age Adult          Low  \n",
       "4         0         0  Mid-Age Adult       Medium  "
      ]
     },
     "execution_count": 26,
     "metadata": {},
     "output_type": "execute_result"
    }
   ],
   "source": [
    "df.rename(columns={'MntWines':'Wines',\n",
    "                   'MntFruits':'Fruits',\n",
    "                   'MntMeatProducts':'Meat',\n",
    "                   'MntFishProducts':'Fish',\n",
    "                   'MntSweetProducts':'Sweets',\n",
    "                   'MntGoldProds':'Gold'},\n",
    "                   inplace=True)\n",
    "\n",
    "df.head()"
   ]
  },
  {
   "cell_type": "markdown",
   "metadata": {},
   "source": [
    "### Kolom Tambahan Lainnya"
   ]
  },
  {
   "cell_type": "code",
   "execution_count": 27,
   "metadata": {},
   "outputs": [],
   "source": [
    "df['Expenses'] = df['Wines'] + df['Fruits'] + df['Meat'] + df['Fish'] + df['Sweets'] + df['Gold']"
   ]
  },
  {
   "cell_type": "markdown",
   "metadata": {},
   "source": [
    "`Expenses` dibuat untuk menjumlahkan total belanja produk dalam dua tahun terakhir."
   ]
  },
  {
   "cell_type": "code",
   "execution_count": 28,
   "metadata": {},
   "outputs": [],
   "source": [
    "df['Total_Purch'] = df['NumWebPurchases'] + df['NumCatalogPurchases'] + df['NumStorePurchases']"
   ]
  },
  {
   "cell_type": "markdown",
   "metadata": {},
   "source": [
    "`Total_Purch` dibuat untuk menjumlahkan banyaknya pembelian dari masing-masing purchase sourse-nya."
   ]
  },
  {
   "cell_type": "code",
   "execution_count": 29,
   "metadata": {},
   "outputs": [],
   "source": [
    "df['Total_AccCmp'] = df['AcceptedCmp1'] + df['AcceptedCmp2'] + df['AcceptedCmp3'] + df['AcceptedCmp4'] + df['AcceptedCmp5'] + df['Response']"
   ]
  },
  {
   "cell_type": "markdown",
   "metadata": {},
   "source": [
    "`Total_AccCmp` dibuat untuk menjumlahkan total penerimaan *campaign* dari masing-masing customer, dimulai dari *campaign* ke-1 sampai *campaign* yang terakhir."
   ]
  },
  {
   "cell_type": "markdown",
   "metadata": {},
   "source": [
    "### Clean Data and Export Data"
   ]
  },
  {
   "cell_type": "code",
   "execution_count": 30,
   "metadata": {},
   "outputs": [
    {
     "data": {
      "text/html": [
       "<div>\n",
       "<style scoped>\n",
       "    .dataframe tbody tr th:only-of-type {\n",
       "        vertical-align: middle;\n",
       "    }\n",
       "\n",
       "    .dataframe tbody tr th {\n",
       "        vertical-align: top;\n",
       "    }\n",
       "\n",
       "    .dataframe thead th {\n",
       "        text-align: right;\n",
       "    }\n",
       "</style>\n",
       "<table border=\"1\" class=\"dataframe\">\n",
       "  <thead>\n",
       "    <tr style=\"text-align: right;\">\n",
       "      <th></th>\n",
       "      <th>ID</th>\n",
       "      <th>Age</th>\n",
       "      <th>Age_Class</th>\n",
       "      <th>Education</th>\n",
       "      <th>Marital_Status</th>\n",
       "      <th>Income</th>\n",
       "      <th>Income_Class</th>\n",
       "      <th>Num_Children</th>\n",
       "      <th>Dt_Customer</th>\n",
       "      <th>Recency</th>\n",
       "      <th>Wines</th>\n",
       "      <th>Fruits</th>\n",
       "      <th>Meat</th>\n",
       "      <th>Fish</th>\n",
       "      <th>Sweets</th>\n",
       "      <th>Gold</th>\n",
       "      <th>Expenses</th>\n",
       "      <th>NumDealsPurchases</th>\n",
       "      <th>NumWebVisitsMonth</th>\n",
       "      <th>NumWebPurchases</th>\n",
       "      <th>NumCatalogPurchases</th>\n",
       "      <th>NumStorePurchases</th>\n",
       "      <th>Total_Purch</th>\n",
       "      <th>AcceptedCmp1</th>\n",
       "      <th>AcceptedCmp2</th>\n",
       "      <th>AcceptedCmp3</th>\n",
       "      <th>AcceptedCmp4</th>\n",
       "      <th>AcceptedCmp5</th>\n",
       "      <th>Response</th>\n",
       "      <th>Total_AccCmp</th>\n",
       "      <th>Complain</th>\n",
       "    </tr>\n",
       "  </thead>\n",
       "  <tbody>\n",
       "    <tr>\n",
       "      <th>0</th>\n",
       "      <td>5524</td>\n",
       "      <td>65</td>\n",
       "      <td>Older Adult</td>\n",
       "      <td>Bachelor</td>\n",
       "      <td>Single</td>\n",
       "      <td>58138.0</td>\n",
       "      <td>Medium</td>\n",
       "      <td>0</td>\n",
       "      <td>2012-09-04</td>\n",
       "      <td>58</td>\n",
       "      <td>635</td>\n",
       "      <td>88</td>\n",
       "      <td>546</td>\n",
       "      <td>172</td>\n",
       "      <td>88</td>\n",
       "      <td>88</td>\n",
       "      <td>1617</td>\n",
       "      <td>3</td>\n",
       "      <td>7</td>\n",
       "      <td>8</td>\n",
       "      <td>10</td>\n",
       "      <td>4</td>\n",
       "      <td>22</td>\n",
       "      <td>0</td>\n",
       "      <td>0</td>\n",
       "      <td>0</td>\n",
       "      <td>0</td>\n",
       "      <td>0</td>\n",
       "      <td>1</td>\n",
       "      <td>1</td>\n",
       "      <td>0</td>\n",
       "    </tr>\n",
       "    <tr>\n",
       "      <th>1</th>\n",
       "      <td>2174</td>\n",
       "      <td>68</td>\n",
       "      <td>Older Adult</td>\n",
       "      <td>Bachelor</td>\n",
       "      <td>Single</td>\n",
       "      <td>46344.0</td>\n",
       "      <td>Medium</td>\n",
       "      <td>2</td>\n",
       "      <td>2014-03-08</td>\n",
       "      <td>38</td>\n",
       "      <td>11</td>\n",
       "      <td>1</td>\n",
       "      <td>6</td>\n",
       "      <td>2</td>\n",
       "      <td>1</td>\n",
       "      <td>6</td>\n",
       "      <td>27</td>\n",
       "      <td>2</td>\n",
       "      <td>5</td>\n",
       "      <td>1</td>\n",
       "      <td>1</td>\n",
       "      <td>2</td>\n",
       "      <td>4</td>\n",
       "      <td>0</td>\n",
       "      <td>0</td>\n",
       "      <td>0</td>\n",
       "      <td>0</td>\n",
       "      <td>0</td>\n",
       "      <td>0</td>\n",
       "      <td>0</td>\n",
       "      <td>0</td>\n",
       "    </tr>\n",
       "    <tr>\n",
       "      <th>2</th>\n",
       "      <td>4141</td>\n",
       "      <td>57</td>\n",
       "      <td>Older Adult</td>\n",
       "      <td>Bachelor</td>\n",
       "      <td>Together</td>\n",
       "      <td>71613.0</td>\n",
       "      <td>High</td>\n",
       "      <td>0</td>\n",
       "      <td>2013-08-21</td>\n",
       "      <td>26</td>\n",
       "      <td>426</td>\n",
       "      <td>49</td>\n",
       "      <td>127</td>\n",
       "      <td>111</td>\n",
       "      <td>21</td>\n",
       "      <td>42</td>\n",
       "      <td>776</td>\n",
       "      <td>1</td>\n",
       "      <td>4</td>\n",
       "      <td>8</td>\n",
       "      <td>2</td>\n",
       "      <td>10</td>\n",
       "      <td>20</td>\n",
       "      <td>0</td>\n",
       "      <td>0</td>\n",
       "      <td>0</td>\n",
       "      <td>0</td>\n",
       "      <td>0</td>\n",
       "      <td>0</td>\n",
       "      <td>0</td>\n",
       "      <td>0</td>\n",
       "    </tr>\n",
       "    <tr>\n",
       "      <th>3</th>\n",
       "      <td>6182</td>\n",
       "      <td>38</td>\n",
       "      <td>Mid-Age Adult</td>\n",
       "      <td>Bachelor</td>\n",
       "      <td>Together</td>\n",
       "      <td>26646.0</td>\n",
       "      <td>Low</td>\n",
       "      <td>1</td>\n",
       "      <td>2014-02-10</td>\n",
       "      <td>26</td>\n",
       "      <td>11</td>\n",
       "      <td>4</td>\n",
       "      <td>20</td>\n",
       "      <td>10</td>\n",
       "      <td>3</td>\n",
       "      <td>5</td>\n",
       "      <td>53</td>\n",
       "      <td>2</td>\n",
       "      <td>6</td>\n",
       "      <td>2</td>\n",
       "      <td>0</td>\n",
       "      <td>4</td>\n",
       "      <td>6</td>\n",
       "      <td>0</td>\n",
       "      <td>0</td>\n",
       "      <td>0</td>\n",
       "      <td>0</td>\n",
       "      <td>0</td>\n",
       "      <td>0</td>\n",
       "      <td>0</td>\n",
       "      <td>0</td>\n",
       "    </tr>\n",
       "    <tr>\n",
       "      <th>4</th>\n",
       "      <td>5324</td>\n",
       "      <td>41</td>\n",
       "      <td>Mid-Age Adult</td>\n",
       "      <td>Doctoral</td>\n",
       "      <td>Married</td>\n",
       "      <td>58293.0</td>\n",
       "      <td>Medium</td>\n",
       "      <td>1</td>\n",
       "      <td>2014-01-19</td>\n",
       "      <td>94</td>\n",
       "      <td>173</td>\n",
       "      <td>43</td>\n",
       "      <td>118</td>\n",
       "      <td>46</td>\n",
       "      <td>27</td>\n",
       "      <td>15</td>\n",
       "      <td>422</td>\n",
       "      <td>5</td>\n",
       "      <td>5</td>\n",
       "      <td>5</td>\n",
       "      <td>3</td>\n",
       "      <td>6</td>\n",
       "      <td>14</td>\n",
       "      <td>0</td>\n",
       "      <td>0</td>\n",
       "      <td>0</td>\n",
       "      <td>0</td>\n",
       "      <td>0</td>\n",
       "      <td>0</td>\n",
       "      <td>0</td>\n",
       "      <td>0</td>\n",
       "    </tr>\n",
       "  </tbody>\n",
       "</table>\n",
       "</div>"
      ],
      "text/plain": [
       "     ID  Age      Age_Class Education Marital_Status   Income Income_Class  \\\n",
       "0  5524   65    Older Adult  Bachelor         Single  58138.0       Medium   \n",
       "1  2174   68    Older Adult  Bachelor         Single  46344.0       Medium   \n",
       "2  4141   57    Older Adult  Bachelor       Together  71613.0         High   \n",
       "3  6182   38  Mid-Age Adult  Bachelor       Together  26646.0          Low   \n",
       "4  5324   41  Mid-Age Adult  Doctoral        Married  58293.0       Medium   \n",
       "\n",
       "   Num_Children Dt_Customer  Recency  Wines  Fruits  Meat  Fish  Sweets  Gold  \\\n",
       "0             0  2012-09-04       58    635      88   546   172      88    88   \n",
       "1             2  2014-03-08       38     11       1     6     2       1     6   \n",
       "2             0  2013-08-21       26    426      49   127   111      21    42   \n",
       "3             1  2014-02-10       26     11       4    20    10       3     5   \n",
       "4             1  2014-01-19       94    173      43   118    46      27    15   \n",
       "\n",
       "   Expenses  NumDealsPurchases  NumWebVisitsMonth  NumWebPurchases  \\\n",
       "0      1617                  3                  7                8   \n",
       "1        27                  2                  5                1   \n",
       "2       776                  1                  4                8   \n",
       "3        53                  2                  6                2   \n",
       "4       422                  5                  5                5   \n",
       "\n",
       "   NumCatalogPurchases  NumStorePurchases  Total_Purch  AcceptedCmp1  \\\n",
       "0                   10                  4           22             0   \n",
       "1                    1                  2            4             0   \n",
       "2                    2                 10           20             0   \n",
       "3                    0                  4            6             0   \n",
       "4                    3                  6           14             0   \n",
       "\n",
       "   AcceptedCmp2  AcceptedCmp3  AcceptedCmp4  AcceptedCmp5  Response  \\\n",
       "0             0             0             0             0         1   \n",
       "1             0             0             0             0         0   \n",
       "2             0             0             0             0         0   \n",
       "3             0             0             0             0         0   \n",
       "4             0             0             0             0         0   \n",
       "\n",
       "   Total_AccCmp  Complain  \n",
       "0             1         0  \n",
       "1             0         0  \n",
       "2             0         0  \n",
       "3             0         0  \n",
       "4             0         0  "
      ]
     },
     "execution_count": 30,
     "metadata": {},
     "output_type": "execute_result"
    }
   ],
   "source": [
    "# Mengurutkan kolom sesuai dengan bentuk data yang diinginkan\n",
    "df = df[['ID', 'Age', 'Age_Class', 'Education', 'Marital_Status', 'Income', 'Income_Class', 'Num_Children',\n",
    "       'Dt_Customer', 'Recency', 'Wines', 'Fruits', 'Meat', 'Fish', 'Sweets', 'Gold', 'Expenses', \n",
    "       'NumDealsPurchases', 'NumWebVisitsMonth', 'NumWebPurchases', 'NumCatalogPurchases', 'NumStorePurchases', 'Total_Purch',\n",
    "       'AcceptedCmp1', 'AcceptedCmp2', 'AcceptedCmp3', 'AcceptedCmp4', 'AcceptedCmp5',\n",
    "       'Response', 'Total_AccCmp', 'Complain']].reset_index().drop(columns='index').copy()\n",
    "           \n",
    "df.head()"
   ]
  },
  {
   "cell_type": "code",
   "execution_count": 31,
   "metadata": {},
   "outputs": [
    {
     "data": {
      "text/plain": [
       "(2212, 31)"
      ]
     },
     "execution_count": 31,
     "metadata": {},
     "output_type": "execute_result"
    }
   ],
   "source": [
    "# Menampilkan jumlah baris dan kolom dari data yang sudah di cleansing\n",
    "df.shape"
   ]
  },
  {
   "cell_type": "code",
   "execution_count": 32,
   "metadata": {},
   "outputs": [
    {
     "name": "stdout",
     "output_type": "stream",
     "text": [
      "<class 'pandas.core.frame.DataFrame'>\n",
      "RangeIndex: 2212 entries, 0 to 2211\n",
      "Data columns (total 31 columns):\n",
      " #   Column               Non-Null Count  Dtype         \n",
      "---  ------               --------------  -----         \n",
      " 0   ID                   2212 non-null   int64         \n",
      " 1   Age                  2212 non-null   int64         \n",
      " 2   Age_Class            2212 non-null   category      \n",
      " 3   Education            2212 non-null   category      \n",
      " 4   Marital_Status       2212 non-null   category      \n",
      " 5   Income               2212 non-null   float64       \n",
      " 6   Income_Class         2212 non-null   category      \n",
      " 7   Num_Children         2212 non-null   int64         \n",
      " 8   Dt_Customer          2212 non-null   datetime64[ns]\n",
      " 9   Recency              2212 non-null   int64         \n",
      " 10  Wines                2212 non-null   int64         \n",
      " 11  Fruits               2212 non-null   int64         \n",
      " 12  Meat                 2212 non-null   int64         \n",
      " 13  Fish                 2212 non-null   int64         \n",
      " 14  Sweets               2212 non-null   int64         \n",
      " 15  Gold                 2212 non-null   int64         \n",
      " 16  Expenses             2212 non-null   int64         \n",
      " 17  NumDealsPurchases    2212 non-null   int64         \n",
      " 18  NumWebVisitsMonth    2212 non-null   int64         \n",
      " 19  NumWebPurchases      2212 non-null   int64         \n",
      " 20  NumCatalogPurchases  2212 non-null   int64         \n",
      " 21  NumStorePurchases    2212 non-null   int64         \n",
      " 22  Total_Purch          2212 non-null   int64         \n",
      " 23  AcceptedCmp1         2212 non-null   int64         \n",
      " 24  AcceptedCmp2         2212 non-null   int64         \n",
      " 25  AcceptedCmp3         2212 non-null   int64         \n",
      " 26  AcceptedCmp4         2212 non-null   int64         \n",
      " 27  AcceptedCmp5         2212 non-null   int64         \n",
      " 28  Response             2212 non-null   int64         \n",
      " 29  Total_AccCmp         2212 non-null   int64         \n",
      " 30  Complain             2212 non-null   int64         \n",
      "dtypes: category(4), datetime64[ns](1), float64(1), int64(25)\n",
      "memory usage: 476.0 KB\n"
     ]
    }
   ],
   "source": [
    "df.info()"
   ]
  },
  {
   "cell_type": "markdown",
   "metadata": {},
   "source": [
    "Setelah cleaning data dilakukan, maka didapatkan dataset yang sudah bersih dengan detail sebagai berikut:\n",
    "- Jumlah baris dataset terbaru: 2212 baris\n",
    "- Jumlah kolom dataset terbaru: 31 kolom\n",
    "- Tipe data:\n",
    "    - 4 tipe data 'category'\n",
    "    - 1 tipe data 'float64'\n",
    "    - 25 tipe data 'int64'\n",
    "    - 1 tipe data 'object'\n",
    "\n",
    "\n",
    "Dataset sudah di-cleaning, maka dataset akan diexport ke dalam file .xlsx untuk selanjutnya divisualisasikan ke Tableau."
   ]
  },
  {
   "cell_type": "code",
   "execution_count": 33,
   "metadata": {},
   "outputs": [],
   "source": [
    "df.to_excel('clean_marketing_campaign.xlsx', sheet_name='Data Clean', index=False)\n"
   ]
  },
  {
   "cell_type": "markdown",
   "metadata": {},
   "source": [
    "## **Data Analysis**\n",
    "---"
   ]
  },
  {
   "cell_type": "markdown",
   "metadata": {},
   "source": [
    "Setelah data cleaning dilakukan, tahap selanjutnya adalah data analisis untuk dapat menjawab rumusan masalah dibawah ini yaitu:\n",
    "1. Bagaimana karakteristik customer yang membeli produk berdasarkan usia, pendapatan, status perkawinan, dan jumlah anak?\n",
    "2. Bagaimana efektifitas campaign terhadap populasi customer?\n",
    "\n",
    "Dari rumusan masalah diatas, akan saya mendetailkannya menjadi beberapa business question sebagai berikut:\n",
    "- Kelompok usia mana yang melakukan pembelian produk paling banyak dalam 2 tahun terakhir?\n",
    "- Bagaimana `Expenses` dari masing-masing kelompok usia berdasarkan produk yang dibeli?\n",
    "- Bagaimana hubungan korelasi antara `Expense` vs `Income` customer?\n",
    "- Customer dengan `Marital_Status` seperti apa yang melakukan pembelian produk paling banyak dalam 2 tahun terakhir?\n",
    "- Bagaimana hubungan korelasi antara `Expense`, `Income`, dan `Num_Children`?\n",
    "- Pada channel manakah customer lebih banyak membeli produknya (web, catalog, store)?\n",
    "- Bagaimana respon customer terhadap marketing campaign yang telah dibuat? "
   ]
  },
  {
   "cell_type": "markdown",
   "metadata": {},
   "source": [
    "### **Business Question 1**\n",
    "\n",
    "Kelompok usia mana yang melakukan pembelian produk paling banyak dalam 2 tahun terakhir?"
   ]
  },
  {
   "cell_type": "code",
   "execution_count": 34,
   "metadata": {},
   "outputs": [
    {
     "data": {
      "text/html": [
       "<div>\n",
       "<style scoped>\n",
       "    .dataframe tbody tr th:only-of-type {\n",
       "        vertical-align: middle;\n",
       "    }\n",
       "\n",
       "    .dataframe tbody tr th {\n",
       "        vertical-align: top;\n",
       "    }\n",
       "\n",
       "    .dataframe thead th {\n",
       "        text-align: right;\n",
       "    }\n",
       "</style>\n",
       "<table border=\"1\" class=\"dataframe\">\n",
       "  <thead>\n",
       "    <tr style=\"text-align: right;\">\n",
       "      <th></th>\n",
       "      <th>Expenses</th>\n",
       "    </tr>\n",
       "    <tr>\n",
       "      <th>Age_Class</th>\n",
       "      <th></th>\n",
       "    </tr>\n",
       "  </thead>\n",
       "  <tbody>\n",
       "    <tr>\n",
       "      <th>Young Adult</th>\n",
       "      <td>99365</td>\n",
       "    </tr>\n",
       "    <tr>\n",
       "      <th>Mid-Age Adult</th>\n",
       "      <td>619184</td>\n",
       "    </tr>\n",
       "    <tr>\n",
       "      <th>Older Adult</th>\n",
       "      <td>624728</td>\n",
       "    </tr>\n",
       "  </tbody>\n",
       "</table>\n",
       "</div>"
      ],
      "text/plain": [
       "               Expenses\n",
       "Age_Class              \n",
       "Young Adult       99365\n",
       "Mid-Age Adult    619184\n",
       "Older Adult      624728"
      ]
     },
     "execution_count": 34,
     "metadata": {},
     "output_type": "execute_result"
    }
   ],
   "source": [
    "# Menampilkan `Age_Class` yang paling banyak mengeluarkan uang untuk membeli produk\n",
    "df.groupby('Age_Class').sum()[['Expenses']]"
   ]
  },
  {
   "cell_type": "code",
   "execution_count": 35,
   "metadata": {},
   "outputs": [
    {
     "data": {
      "image/png": "[encoded data removed]",
      "text/plain": [
       "<Figure size 864x432 with 1 Axes>"
      ]
     },
     "metadata": {
      "needs_background": "light"
     },
     "output_type": "display_data"
    }
   ],
   "source": [
    "plt.figure(figsize=(12,6))\n",
    "ax = sns.barplot(data=df, x='Age_Class', y='Expenses', estimator=sum, palette='GnBu', ci=0)\n",
    "plt.title('Total Product Expenses by Age Classification\\n',size=14)\n",
    "plt.xlabel('Age Classification',labelpad=10)\n",
    "plt.ylabel('Sum of Product Expenses',labelpad=10)\n",
    "plt.ylim(0,700000);\n",
    "\n",
    "for p in ax.patches:\n",
    "    ax.annotate(f'$ {p.get_height()}', (p.get_x()+0.4, p.get_height()+25000), ha='center', va='top', color='black', size=12)"
   ]
  },
  {
   "cell_type": "code",
   "execution_count": 36,
   "metadata": {},
   "outputs": [
    {
     "data": {
      "text/plain": [
       "Mid-Age Adult    52.9\n",
       "Older Adult      40.5\n",
       "Young Adult       6.6\n",
       "Name: Age_Class, dtype: float64"
      ]
     },
     "execution_count": 36,
     "metadata": {},
     "output_type": "execute_result"
    }
   ],
   "source": [
    "# Menampilkan proporsi customer berdasarkan kelompok usianya\n",
    "round(df['Age_Class'].value_counts() / len(df)*100,1)"
   ]
  },
  {
   "cell_type": "markdown",
   "metadata": {},
   "source": [
    "Berdasarkan tabel dan grafik diatas, kita dapat mengetahui bahwa:\n",
    "- Customer Older Adult paling tinggi dalam mengeluarkan uang untuk belanja dalam 2 tahun terakhir sejumlah $624.728 (berbeda sedikit dengan customer Mid-Age Adult).\n",
    "- Customer Young Adult paling rendah dalam mengeluarkan uang untuk belanja  dalam 2 tahun terakhir sejumlah $99.365.\n",
    "\n",
    "Perbedaan ini disebabkan oleh proporsi customer yang tidak merata berdasarkan kelompok usianya, dimana proporsi customer Young Adult hanya 6.6% dari total populasi customer. Serta meskipun proporsi customer Older Adult lebih rendah dari Mid-Age Adult, namun total expensenya sedikit lebih banyak dari Mid-Age Adult."
   ]
  },
  {
   "cell_type": "markdown",
   "metadata": {},
   "source": [
    "### **Business Question 2**\n",
    "\n",
    "Bagaimana `Expenses` dari masing-masing kelompok usia berdasarkan produk yang dibeli?"
   ]
  },
  {
   "cell_type": "code",
   "execution_count": 37,
   "metadata": {},
   "outputs": [
    {
     "data": {
      "text/html": [
       "<div>\n",
       "<style scoped>\n",
       "    .dataframe tbody tr th:only-of-type {\n",
       "        vertical-align: middle;\n",
       "    }\n",
       "\n",
       "    .dataframe tbody tr th {\n",
       "        vertical-align: top;\n",
       "    }\n",
       "\n",
       "    .dataframe thead th {\n",
       "        text-align: right;\n",
       "    }\n",
       "</style>\n",
       "<table border=\"1\" class=\"dataframe\">\n",
       "  <thead>\n",
       "    <tr style=\"text-align: right;\">\n",
       "      <th></th>\n",
       "      <th>Product</th>\n",
       "      <th>Sales</th>\n",
       "    </tr>\n",
       "  </thead>\n",
       "  <tbody>\n",
       "    <tr>\n",
       "      <th>0</th>\n",
       "      <td>Wines</td>\n",
       "      <td>675296</td>\n",
       "    </tr>\n",
       "    <tr>\n",
       "      <th>2</th>\n",
       "      <td>Meat</td>\n",
       "      <td>369470</td>\n",
       "    </tr>\n",
       "    <tr>\n",
       "      <th>5</th>\n",
       "      <td>Gold</td>\n",
       "      <td>97164</td>\n",
       "    </tr>\n",
       "    <tr>\n",
       "      <th>3</th>\n",
       "      <td>Fish</td>\n",
       "      <td>83279</td>\n",
       "    </tr>\n",
       "    <tr>\n",
       "      <th>4</th>\n",
       "      <td>Sweets</td>\n",
       "      <td>59827</td>\n",
       "    </tr>\n",
       "    <tr>\n",
       "      <th>1</th>\n",
       "      <td>Fruits</td>\n",
       "      <td>58241</td>\n",
       "    </tr>\n",
       "  </tbody>\n",
       "</table>\n",
       "</div>"
      ],
      "text/plain": [
       "  Product   Sales\n",
       "0   Wines  675296\n",
       "2    Meat  369470\n",
       "5    Gold   97164\n",
       "3    Fish   83279\n",
       "4  Sweets   59827\n",
       "1  Fruits   58241"
      ]
     },
     "execution_count": 37,
     "metadata": {},
     "output_type": "execute_result"
    }
   ],
   "source": [
    "# Menampilkan dataframe total expenses berdasarkan produk\n",
    "product_name = list(df.iloc[:,10:16].columns)\n",
    "\n",
    "product_detail_expenses = pd.DataFrame({\n",
    "    'Product' : product_name,\n",
    "    'Sales': [df[i].sum() for i in product_name]\n",
    "}).sort_values('Sales',ascending=False)\n",
    "    \n",
    "product_detail_expenses"
   ]
  },
  {
   "cell_type": "code",
   "execution_count": 38,
   "metadata": {},
   "outputs": [
    {
     "data": {
      "image/png": "[encoded data removed]",
      "text/plain": [
       "<Figure size 864x432 with 1 Axes>"
      ]
     },
     "metadata": {
      "needs_background": "light"
     },
     "output_type": "display_data"
    }
   ],
   "source": [
    "plt.figure(figsize=(12,6))\n",
    "ax = sns.barplot(data=product_detail_expenses, x='Sales', y='Product', palette='rocket', ci=0)\n",
    "plt.title('Total Expenses by Product\\n',size=14)\n",
    "plt.xlabel('Expenses',labelpad=10)\n",
    "plt.ylabel('Products',labelpad=10)\n",
    "plt.xlim(0,700000);"
   ]
  },
  {
   "cell_type": "markdown",
   "metadata": {},
   "source": [
    "Jika berdasarkan jenis produk yang banyak dibeli dalam 2 tahun terakhir, diketahui bahwa:\n",
    "- Wine menjadi produk yang paling banyak dibeli oleh customer dengan total penjualan $675.296.\n",
    "- Fruites menjadi produk yang paling sedikit dibeli oleh customer dengan total penjualan $58.241.\n",
    "\n",
    "Untuk lebih memperinci, saya akan menampilkan total expense dari masing-masing produk berdasarkan kelompok usianya."
   ]
  },
  {
   "cell_type": "code",
   "execution_count": 39,
   "metadata": {},
   "outputs": [
    {
     "data": {
      "text/html": [
       "<div>\n",
       "<style scoped>\n",
       "    .dataframe tbody tr th:only-of-type {\n",
       "        vertical-align: middle;\n",
       "    }\n",
       "\n",
       "    .dataframe tbody tr th {\n",
       "        vertical-align: top;\n",
       "    }\n",
       "\n",
       "    .dataframe thead th {\n",
       "        text-align: right;\n",
       "    }\n",
       "</style>\n",
       "<table border=\"1\" class=\"dataframe\">\n",
       "  <thead>\n",
       "    <tr style=\"text-align: right;\">\n",
       "      <th></th>\n",
       "      <th>Age_Class</th>\n",
       "      <th>Wines</th>\n",
       "      <th>Fruits</th>\n",
       "      <th>Meat</th>\n",
       "      <th>Fish</th>\n",
       "      <th>Sweets</th>\n",
       "      <th>Gold</th>\n",
       "    </tr>\n",
       "  </thead>\n",
       "  <tbody>\n",
       "    <tr>\n",
       "      <th>0</th>\n",
       "      <td>Young Adult</td>\n",
       "      <td>42256</td>\n",
       "      <td>5049</td>\n",
       "      <td>33477</td>\n",
       "      <td>6680</td>\n",
       "      <td>4872</td>\n",
       "      <td>7031</td>\n",
       "    </tr>\n",
       "    <tr>\n",
       "      <th>1</th>\n",
       "      <td>Mid-Age Adult</td>\n",
       "      <td>302379</td>\n",
       "      <td>28240</td>\n",
       "      <td>173223</td>\n",
       "      <td>39777</td>\n",
       "      <td>29188</td>\n",
       "      <td>46377</td>\n",
       "    </tr>\n",
       "    <tr>\n",
       "      <th>2</th>\n",
       "      <td>Older Adult</td>\n",
       "      <td>330661</td>\n",
       "      <td>24952</td>\n",
       "      <td>162770</td>\n",
       "      <td>36822</td>\n",
       "      <td>25767</td>\n",
       "      <td>43756</td>\n",
       "    </tr>\n",
       "  </tbody>\n",
       "</table>\n",
       "</div>"
      ],
      "text/plain": [
       "       Age_Class   Wines  Fruits    Meat   Fish  Sweets   Gold\n",
       "0    Young Adult   42256    5049   33477   6680    4872   7031\n",
       "1  Mid-Age Adult  302379   28240  173223  39777   29188  46377\n",
       "2    Older Adult  330661   24952  162770  36822   25767  43756"
      ]
     },
     "execution_count": 39,
     "metadata": {},
     "output_type": "execute_result"
    }
   ],
   "source": [
    "# Menampilkan 'Expenses' per kelompok usianya berdasarkan produk yang dibeli\n",
    "groupby_YS = df.groupby('Age_Class').sum().iloc[:,5:11].reset_index()\n",
    "groupby_YS"
   ]
  },
  {
   "cell_type": "code",
   "execution_count": 40,
   "metadata": {},
   "outputs": [
    {
     "data": {
      "image/png": "[encoded data removed]",
      "text/plain": [
       "<Figure size 1296x720 with 6 Axes>"
      ]
     },
     "metadata": {
      "needs_background": "light"
     },
     "output_type": "display_data"
    }
   ],
   "source": [
    "fig = plt.figure(figsize=(18,10))\n",
    "\n",
    "fig.suptitle('Total Expenses by Age Class & Type of Products',size=16)\n",
    "\n",
    "num_subplot = 1\n",
    "\n",
    "for i in groupby_YS.iloc[:,1:].columns:\n",
    "    plt.subplot(2,3,num_subplot)\n",
    "    sns.barplot(data=groupby_YS, x='Age_Class', y=i, palette='rocket', estimator=sum)\n",
    "    plt.title(i,size=14)\n",
    "    plt.xlabel('Age Class')\n",
    "    plt.ylabel('Sum. Expenses')\n",
    "    plt.ylim(0,350000)\n",
    "    num_subplot += 1\n",
    "\n",
    "plt.tight_layout();"
   ]
  },
  {
   "cell_type": "markdown",
   "metadata": {},
   "source": [
    "Apabila diperinci total expensenya berdasarkan produk dan kelompok usianya, diketahui bahwa:\n",
    "- Dari 6 produk yang dijual, 5 diantaranya dibeli paling banyak dari customer Mid-Age Adult. Produk-produk tersebut adalah Fruits, Meat, Fish, Sweets, dan Gold.\n",
    "- Produk Wines dibeli paling banyak oleh customer Older Adult.\n",
    "- Sejalan dengan business question 1, customer Young Adult juga menjadi customer dengan expense terendah berdasarkan pembelian masing-masing produk.\n",
    "\n",
    "Penjelasan data diatas adalah harga Wine biasanya cenderung lebih mahal daripada harga produk lainnya (selain Gold) dan konsumsi Wine di US tahun 2021 didominasi oleh kelompok *Boomers* (tahun lahir 1946-1964, minimal usia 58 tahun saat ini), oleh karena itu pembelian Wine terbanyak adalah dari customer Older Adult. Kemudian customer Mid-Age Adult juga membelanjakan uangnya lebih banyak pada produk lain selain Wine sehingga hal ini melengkapi business question 1 dimana `Expenses` customer Mid-Age Adult mendekati total `Expenses` dari kelompok Older Adult."
   ]
  },
  {
   "cell_type": "markdown",
   "metadata": {},
   "source": [
    "### **Business Question 3**\n",
    "\n",
    "Bagaimana hubungan korelasi antara `Expense` vs `Income` customer?"
   ]
  },
  {
   "cell_type": "code",
   "execution_count": 41,
   "metadata": {},
   "outputs": [
    {
     "data": {
      "text/html": [
       "<div>\n",
       "<style scoped>\n",
       "    .dataframe tbody tr th:only-of-type {\n",
       "        vertical-align: middle;\n",
       "    }\n",
       "\n",
       "    .dataframe tbody tr th {\n",
       "        vertical-align: top;\n",
       "    }\n",
       "\n",
       "    .dataframe thead th {\n",
       "        text-align: right;\n",
       "    }\n",
       "</style>\n",
       "<table border=\"1\" class=\"dataframe\">\n",
       "  <thead>\n",
       "    <tr style=\"text-align: right;\">\n",
       "      <th></th>\n",
       "      <th>Income</th>\n",
       "    </tr>\n",
       "    <tr>\n",
       "      <th>Age_Class</th>\n",
       "      <th></th>\n",
       "    </tr>\n",
       "  </thead>\n",
       "  <tbody>\n",
       "    <tr>\n",
       "      <th>Young Adult</th>\n",
       "      <td>42193.5</td>\n",
       "    </tr>\n",
       "    <tr>\n",
       "      <th>Mid-Age Adult</th>\n",
       "      <td>44556.5</td>\n",
       "    </tr>\n",
       "    <tr>\n",
       "      <th>Older Adult</th>\n",
       "      <td>57724.5</td>\n",
       "    </tr>\n",
       "  </tbody>\n",
       "</table>\n",
       "</div>"
      ],
      "text/plain": [
       "                Income\n",
       "Age_Class             \n",
       "Young Adult    42193.5\n",
       "Mid-Age Adult  44556.5\n",
       "Older Adult    57724.5"
      ]
     },
     "execution_count": 41,
     "metadata": {},
     "output_type": "execute_result"
    }
   ],
   "source": [
    "# Menampilkan median 'Income' berdasarkan dan 'Age_Class'\n",
    "# Mengambil nilai median karena data 'Income' tidak terdistribusi normal (ditampilkan di bagian Data Wrangling) sehingga mengambil median sebagai ukuran pusat data\n",
    "df.groupby('Age_Class').median()[['Income']]"
   ]
  },
  {
   "cell_type": "markdown",
   "metadata": {},
   "source": [
    "Dilihat dari tabel summary diatas, untuk nilai median `Income` kelompok Young Adult dan Mid-Age Adult tidak dapat dipastikan apakah berbeda signifikan atau tidak. Sehingga untuk menguji hipotesis tersebut, saya akan melakukan uji statistik dengan Mann-Whitney."
   ]
  },
  {
   "cell_type": "code",
   "execution_count": 42,
   "metadata": {},
   "outputs": [
    {
     "name": "stdout",
     "output_type": "stream",
     "text": [
      "pvalue = 0.734316. pvalue > 0.05. Fail to reject Ho.\n",
      "TIDAK punya cukup bukti bahwa median income Young Adult TIDAK SAMA DENGAN median income Mid-Age Adult\n"
     ]
    }
   ],
   "source": [
    "# - Ho: Median income Young Adult = Median income Mid-Age Adult\n",
    "# - Ha: Median income Young Adult != Median income Mid-Age Adult\n",
    "\n",
    "stat, pvalue = mannwhitneyu(\n",
    "    df[df['Age_Class']=='Young Adult']['Income'],\n",
    "    df[df['Age_Class']=='Mid-Age Adult']['Income']\n",
    ")\n",
    "\n",
    "if pvalue > 0.05:\n",
    "    print(f'pvalue = {pvalue:5f}. pvalue > 0.05. Fail to reject Ho.\\nTIDAK punya cukup bukti bahwa median income Young Adult TIDAK SAMA DENGAN median income Mid-Age Adult')\n",
    "else:\n",
    "    print(f'pvalue = {pvalue:5f}. pvalue <= 0.05. Reject Ho.\\nPunya cukup bukti bahwa median income Young Adult TIDAK SAMA DENGAN median income Mid-Age Adult')"
   ]
  },
  {
   "cell_type": "code",
   "execution_count": 43,
   "metadata": {},
   "outputs": [
    {
     "data": {
      "image/png": "[encoded data removed]",
      "text/plain": [
       "<Figure size 864x432 with 1 Axes>"
      ]
     },
     "metadata": {
      "needs_background": "light"
     },
     "output_type": "display_data"
    }
   ],
   "source": [
    "young = df[df['Age_Class'] == 'Young Adult']\n",
    "mid_age = df[df['Age_Class'] == 'Mid-Age Adult']\n",
    "\n",
    "# Hisplot Mid-Age Adult\n",
    "plt.figure(figsize=(12,6))\n",
    "sns.histplot(data=mid_age, x='Income', color='darkgreen')\n",
    "plt.axvline(x=mid_age['Income'].median(),\n",
    "            color='red',\n",
    "            ls='--', \n",
    "            lw=2.5)\n",
    "\n",
    "# Hisplot Young Adult\n",
    "sns.histplot(data=young, x='Income', color='palegreen')\n",
    "plt.axvline(x=young['Income'].median(),\n",
    "            color='blue',\n",
    "            ls='--', \n",
    "            lw=2.5)\n",
    "\n",
    "text_lineplot = f'''\n",
    "- Median income Young Adult = ${young['Income'].median()}\n",
    "- Median income Mid-Age Adult = ${mid_age['Income'].median()}\n",
    "'''\n",
    "\n",
    "plt.text(x=81000,y=116,s=text_lineplot, fontsize=12)\n",
    "plt.title('Income Histogram: Young Adult vs Mid-Age Adult\\n', size=14);"
   ]
  },
  {
   "cell_type": "markdown",
   "metadata": {},
   "source": [
    "Dari hasil uji statistik dan visualisasi histogram dari `Income` diatas, menunjukkan bahwa median `Income` kelompok Young Adult dinyatakan *tidak berbeda signifikan* dengan median `Income` kelompok Mid-Age Adult (pvalue = 0.734316, Failed to reject Ho)."
   ]
  },
  {
   "cell_type": "code",
   "execution_count": 44,
   "metadata": {},
   "outputs": [
    {
     "data": {
      "text/html": [
       "<div>\n",
       "<style scoped>\n",
       "    .dataframe tbody tr th:only-of-type {\n",
       "        vertical-align: middle;\n",
       "    }\n",
       "\n",
       "    .dataframe tbody tr th {\n",
       "        vertical-align: top;\n",
       "    }\n",
       "\n",
       "    .dataframe thead th {\n",
       "        text-align: right;\n",
       "    }\n",
       "</style>\n",
       "<table border=\"1\" class=\"dataframe\">\n",
       "  <thead>\n",
       "    <tr style=\"text-align: right;\">\n",
       "      <th></th>\n",
       "      <th>Expenses</th>\n",
       "    </tr>\n",
       "    <tr>\n",
       "      <th>Age_Class</th>\n",
       "      <th></th>\n",
       "    </tr>\n",
       "  </thead>\n",
       "  <tbody>\n",
       "    <tr>\n",
       "      <th>Young Adult</th>\n",
       "      <td>99365</td>\n",
       "    </tr>\n",
       "    <tr>\n",
       "      <th>Mid-Age Adult</th>\n",
       "      <td>619184</td>\n",
       "    </tr>\n",
       "    <tr>\n",
       "      <th>Older Adult</th>\n",
       "      <td>624728</td>\n",
       "    </tr>\n",
       "  </tbody>\n",
       "</table>\n",
       "</div>"
      ],
      "text/plain": [
       "               Expenses\n",
       "Age_Class              \n",
       "Young Adult       99365\n",
       "Mid-Age Adult    619184\n",
       "Older Adult      624728"
      ]
     },
     "execution_count": 44,
     "metadata": {},
     "output_type": "execute_result"
    }
   ],
   "source": [
    "# Menampilkan 'Expenses' berdasarkan 'Income_Class' dan 'Age_Class'\n",
    "df.groupby('Age_Class').sum()[['Expenses']]"
   ]
  },
  {
   "cell_type": "code",
   "execution_count": 45,
   "metadata": {},
   "outputs": [
    {
     "data": {
      "image/png": "[encoded data removed]",
      "text/plain": [
       "<Figure size 1296x432 with 2 Axes>"
      ]
     },
     "metadata": {
      "needs_background": "light"
     },
     "output_type": "display_data"
    }
   ],
   "source": [
    "fig = plt.figure(figsize=(18,6))\n",
    "\n",
    "fig.suptitle('Visualization of Income vs Expenses\\n', size=16)\n",
    "\n",
    "plt.subplot(1,2,1)\n",
    "sns.boxplot(data=df, x='Age_Class', y='Income', palette='YlGn')\n",
    "plt.title('Income', size=14)\n",
    "plt.xlabel('Age Classification',labelpad=10)\n",
    "plt.ylabel('Income',labelpad=10)\n",
    "\n",
    "plt.subplot(1,2,2)\n",
    "ax = sns.barplot(data=df, x='Age_Class', y='Expenses', palette='YlGn', ci=0, estimator=sum)\n",
    "plt.title('Total Expenses', size=14)\n",
    "plt.xlabel('Age Classification',labelpad=10)\n",
    "plt.ylabel('Total Expenses',labelpad=10)\n",
    "plt.ylim(0,700000)\n",
    "for p in ax.patches:\n",
    "    ax.annotate(f'$ {p.get_height()}', (p.get_x()+0.4, p.get_height()+40000), ha='center', va='top', color='black', size=12)\n",
    "\n",
    "plt.tight_layout();"
   ]
  },
  {
   "cell_type": "markdown",
   "metadata": {},
   "source": [
    "Jika dibandingkan dengan total expense berdasarkan kelompok usia, diketahui bahwa:\n",
    "- Customer Older Adult memiliki median `Income` tertinggi daripada kelompok usia lainnya. Median `Income` kelompok Young Adult dan Mid-Age Adult tidak berbeda signifikan.\n",
    "- Terdapat beberapa outlier pada `Income` kelompok Mid-Age Adult dan Older Adult.\n",
    "\n",
    "Dari perbandingan `Income` dan `Expenses` dari masing-masing kelompok usia, ternyata kelompok Mid-Age Adult memiliki daya beli yang tinggi (hampir setara dengan Older Adult) meskipun median `Income`-nya tidak berbeda signifikan dengan kelompok Young Adult. Yang menjadi perhatian adalah pada kelompok Young Adult daya belinya rendah untuk median `Income` yang tidak berbeda signifikan dengan kelompok Mid-Age Adult, sehingga diperlukan tindakan lebih lanjut untuk meningkatkan daya beli kelompok Young Adult.\n",
    "\n",
    "Kemudian dari pernyataan diatas, saya akan melakukan uji korelasi dengan metode 'Spearman' mengetahui untuk bagaimana hubungan korelasi antara `Income` dan `Expense` customer."
   ]
  },
  {
   "cell_type": "code",
   "execution_count": 46,
   "metadata": {},
   "outputs": [
    {
     "name": "stdout",
     "output_type": "stream",
     "text": [
      "Hasil Correlation Coefficient (r) Expenses vs Income = 0.853119\n",
      "Hubungan korelasi positif\n",
      "Nilai 0.853119: Hubungannya sangat kuat\n"
     ]
    }
   ],
   "source": [
    "# Melakukan uji korelasi spearman pada var. 'Expenses' vs 'Income'\n",
    "r = df['Expenses'].corr(df['Income'], method='spearman')\n",
    "\n",
    "def arah_positive (nilai):\n",
    "    if (nilai <= 0.2):\n",
    "        return('Hubungannya sangat lemah')\n",
    "    elif (0.2 <= nilai <= 0.4):\n",
    "        return('Hubungannya lemah')\n",
    "    elif (0.4 <= nilai <= 0.6):\n",
    "        return('Hubungannya moderate')\n",
    "    elif (0.6 <= nilai <= 0.8):\n",
    "        return('Hubungannya kuat')\n",
    "    else:\n",
    "        return('Hubungannya sangat kuat')\n",
    "\n",
    "def hubungan (nilai):\n",
    "    if nilai < 0:\n",
    "        return('Hubungan korelasi negatif')\n",
    "    elif nilai > 0:\n",
    "        return('Hubungan korelasi positif')\n",
    "    else:\n",
    "        return('Hubungan bernilai 0')\n",
    "\n",
    "print(f'Hasil Correlation Coefficient (r) Expenses vs Income = {r:5f}')\n",
    "print(f'{hubungan(r)}')\n",
    "print(f'Nilai {r:5f}: {arah_positive(r)}')"
   ]
  },
  {
   "cell_type": "code",
   "execution_count": 47,
   "metadata": {},
   "outputs": [
    {
     "data": {
      "image/png": "[encoded data removed]",
      "text/plain": [
       "<Figure size 864x432 with 1 Axes>"
      ]
     },
     "metadata": {
      "needs_background": "light"
     },
     "output_type": "display_data"
    }
   ],
   "source": [
    "plt.figure(figsize=(12,6))\n",
    "sns.scatterplot(data=df, x='Income', y='Expenses', hue='Age_Class', palette='YlGn')\n",
    "plt.title('Correlation Expenses vs Income\\n', size=14)\n",
    "plt.ylabel('Total Expenses', labelpad=10)\n",
    "plt.xlabel('Income', labelpad=10);"
   ]
  },
  {
   "cell_type": "markdown",
   "metadata": {},
   "source": [
    "Dari hasil uji korelasi diatas, diketahui bahwa hubungan korelasi antara `Expenses` dan `Income` adalah hubungan positif (nilai correlation coefficient = 0.853119) dan hubungannya sangat kuat. Sehingga dapat disimpulkan bahwa semakin tinggi `Income` customer, maka semakin banyak `Expense` dari customer tersebut."
   ]
  },
  {
   "cell_type": "markdown",
   "metadata": {},
   "source": [
    "### **Business Question 4**\n",
    "\n",
    "Customer dengan `Marital_Status` seperti apa yang melakukan pembelian produk paling banyak dalam 2 tahun terakhir?"
   ]
  },
  {
   "cell_type": "code",
   "execution_count": 48,
   "metadata": {},
   "outputs": [
    {
     "data": {
      "text/html": [
       "<div>\n",
       "<style scoped>\n",
       "    .dataframe tbody tr th:only-of-type {\n",
       "        vertical-align: middle;\n",
       "    }\n",
       "\n",
       "    .dataframe tbody tr th {\n",
       "        vertical-align: top;\n",
       "    }\n",
       "\n",
       "    .dataframe thead th {\n",
       "        text-align: right;\n",
       "    }\n",
       "</style>\n",
       "<table border=\"1\" class=\"dataframe\">\n",
       "  <thead>\n",
       "    <tr style=\"text-align: right;\">\n",
       "      <th></th>\n",
       "      <th>Income</th>\n",
       "    </tr>\n",
       "    <tr>\n",
       "      <th>Marital_Status</th>\n",
       "      <th></th>\n",
       "    </tr>\n",
       "  </thead>\n",
       "  <tbody>\n",
       "    <tr>\n",
       "      <th>Single</th>\n",
       "      <td>48789.0</td>\n",
       "    </tr>\n",
       "    <tr>\n",
       "      <th>Together</th>\n",
       "      <td>51369.0</td>\n",
       "    </tr>\n",
       "    <tr>\n",
       "      <th>Married</th>\n",
       "      <td>51876.0</td>\n",
       "    </tr>\n",
       "    <tr>\n",
       "      <th>Divorced</th>\n",
       "      <td>53034.0</td>\n",
       "    </tr>\n",
       "    <tr>\n",
       "      <th>Widow</th>\n",
       "      <td>56551.0</td>\n",
       "    </tr>\n",
       "  </tbody>\n",
       "</table>\n",
       "</div>"
      ],
      "text/plain": [
       "                 Income\n",
       "Marital_Status         \n",
       "Single          48789.0\n",
       "Together        51369.0\n",
       "Married         51876.0\n",
       "Divorced        53034.0\n",
       "Widow           56551.0"
      ]
     },
     "execution_count": 48,
     "metadata": {},
     "output_type": "execute_result"
    }
   ],
   "source": [
    "# Menampilkan median 'Income' berdasarkan dan 'Marital Status'\n",
    "df.groupby('Marital_Status').median()[['Income']]"
   ]
  },
  {
   "cell_type": "markdown",
   "metadata": {},
   "source": [
    "Dilihat dari tabel summary diatas, untuk nilai median `Income` berdasarkan `Marital_Status`nya tidak dapat dipastikan apakah berbeda signifikan atau tidak. Sehingga untuk menguji hipotesis tersebut, saya akan melakukan uji statistik dengan Kruskal Wallis."
   ]
  },
  {
   "cell_type": "code",
   "execution_count": 49,
   "metadata": {},
   "outputs": [
    {
     "data": {
      "text/plain": [
       "['Single', 'Together', 'Married', 'Divorced', 'Widow']\n",
       "Categories (5, object): ['Single', 'Together', 'Married', 'Divorced', 'Widow']"
      ]
     },
     "execution_count": 49,
     "metadata": {},
     "output_type": "execute_result"
    }
   ],
   "source": [
    "# Menampilkan nilai unik dari 'Marital_Status' untuk looping\n",
    "marital = df['Marital_Status'].unique()\n",
    "marital"
   ]
  },
  {
   "cell_type": "code",
   "execution_count": 50,
   "metadata": {},
   "outputs": [
    {
     "name": "stdout",
     "output_type": "stream",
     "text": [
      "pvalue = 0.200279. pvalue > 0.05. Fail to reject Ho.\n",
      "TIDAK punya cukup bukti bahwa minimal ada 1 median income dari kelima kelompok 'Marital_Status' yang berbeda\n"
     ]
    }
   ],
   "source": [
    "# Hypothesis\n",
    "# Ho: Median income dari kelima kelompok 'Marital_Status' adalah SAMA\n",
    "# Ha: Minimal ada 1 median income dari kelima kelompok 'Marital_Status' yang berbeda\n",
    "\n",
    "stat, pvalue = kruskal(*[df[df['Marital_Status'] == i]['Income'] for i in marital])\n",
    "\n",
    "if pvalue > 0.05:\n",
    "    print(f'pvalue = {pvalue:5f}. pvalue > 0.05. Fail to reject Ho.\\nTIDAK punya cukup bukti bahwa minimal ada 1 median income dari kelima kelompok \\'Marital_Status\\' yang berbeda')\n",
    "else:\n",
    "    print(f'pvalue = {pvalue:5f}. pvalue <= 0.05. Reject Ho.\\nPunya cukup bukti bahwa minimal ada 1 median income dari kelima kelompok \\'Marital_Status\\' yang berbeda')"
   ]
  },
  {
   "cell_type": "markdown",
   "metadata": {},
   "source": [
    "Dari hasil uji statistik diatas menunjukkan bahwa median `Income` customer berdasarkan `Marital_Status`-nya dinyatakan *tidak berbeda signifikan* (pvalue = 0.200279, Failed to reject Ho)."
   ]
  },
  {
   "cell_type": "code",
   "execution_count": 51,
   "metadata": {},
   "outputs": [
    {
     "data": {
      "text/html": [
       "<div>\n",
       "<style scoped>\n",
       "    .dataframe tbody tr th:only-of-type {\n",
       "        vertical-align: middle;\n",
       "    }\n",
       "\n",
       "    .dataframe tbody tr th {\n",
       "        vertical-align: top;\n",
       "    }\n",
       "\n",
       "    .dataframe thead th {\n",
       "        text-align: right;\n",
       "    }\n",
       "</style>\n",
       "<table border=\"1\" class=\"dataframe\">\n",
       "  <thead>\n",
       "    <tr style=\"text-align: right;\">\n",
       "      <th></th>\n",
       "      <th>Expenses</th>\n",
       "    </tr>\n",
       "    <tr>\n",
       "      <th>Marital_Status</th>\n",
       "      <th></th>\n",
       "    </tr>\n",
       "  </thead>\n",
       "  <tbody>\n",
       "    <tr>\n",
       "      <th>Married</th>\n",
       "      <td>506885</td>\n",
       "    </tr>\n",
       "    <tr>\n",
       "      <th>Together</th>\n",
       "      <td>346954</td>\n",
       "    </tr>\n",
       "    <tr>\n",
       "      <th>Single</th>\n",
       "      <td>292512</td>\n",
       "    </tr>\n",
       "    <tr>\n",
       "      <th>Divorced</th>\n",
       "      <td>141601</td>\n",
       "    </tr>\n",
       "    <tr>\n",
       "      <th>Widow</th>\n",
       "      <td>55325</td>\n",
       "    </tr>\n",
       "  </tbody>\n",
       "</table>\n",
       "</div>"
      ],
      "text/plain": [
       "                Expenses\n",
       "Marital_Status          \n",
       "Married           506885\n",
       "Together          346954\n",
       "Single            292512\n",
       "Divorced          141601\n",
       "Widow              55325"
      ]
     },
     "execution_count": 51,
     "metadata": {},
     "output_type": "execute_result"
    }
   ],
   "source": [
    "# Menampilkan `Marital_Status` yang paling banyak mengeluarkan uang untuk membeli produk\n",
    "df.groupby('Marital_Status').sum()[['Expenses']].sort_values('Expenses',ascending=False)"
   ]
  },
  {
   "cell_type": "code",
   "execution_count": 52,
   "metadata": {},
   "outputs": [
    {
     "data": {
      "image/png": "[encoded data removed]",
      "text/plain": [
       "<Figure size 1296x432 with 2 Axes>"
      ]
     },
     "metadata": {
      "needs_background": "light"
     },
     "output_type": "display_data"
    }
   ],
   "source": [
    "fig = plt.figure(figsize=(18,6))\n",
    "\n",
    "fig.suptitle('Visualization of Income vs Expenses by Marital Status\\n', size=16)\n",
    "\n",
    "plt.subplot(1,2,1)\n",
    "sns.boxplot(data=df, x='Marital_Status', y='Income', palette='BuPu')\n",
    "plt.title('Income', size=14)\n",
    "plt.xlabel('Marital Status',labelpad=10)\n",
    "plt.ylabel('Income',labelpad=10)\n",
    "\n",
    "plt.subplot(1,2,2)\n",
    "ax = sns.barplot(data=df, x='Marital_Status', y='Expenses', estimator=sum, ci= 0, palette='BuPu')\n",
    "plt.title('Total Expenses', size=14)\n",
    "plt.xlabel('Marital Status',labelpad=10)\n",
    "plt.ylabel('Total Expenses',labelpad=10)\n",
    "plt.ylim(0,550000)\n",
    "for p in ax.patches:\n",
    "    ax.annotate(f'$ {p.get_height()}', (p.get_x()+0.4, p.get_height()+25000), ha='center', va='top', color='black', size=12)\n",
    "\n",
    "plt.tight_layout();"
   ]
  },
  {
   "cell_type": "code",
   "execution_count": 53,
   "metadata": {},
   "outputs": [
    {
     "data": {
      "text/plain": [
       "Married     38.7\n",
       "Together    25.8\n",
       "Single      21.6\n",
       "Divorced    10.4\n",
       "Widow        3.4\n",
       "Name: Marital_Status, dtype: float64"
      ]
     },
     "execution_count": 53,
     "metadata": {},
     "output_type": "execute_result"
    }
   ],
   "source": [
    "# Proporsi customer berdasarkan 'Marital_Status'-nya\n",
    "round(df['Marital_Status'].value_counts()/len(df)*100,1)"
   ]
  },
  {
   "cell_type": "markdown",
   "metadata": {},
   "source": [
    "Berdasarkan grafik diatas, diketahui bahwa:\n",
    "- Median `Income` dari masing-masing `Marital_Status` tidak berbeda signifikan.\n",
    "- Terdapat beberapa outlier pada `Income` kelompok Together, Married, dan Divorced.\n",
    "- Customer yang sudah menikah (Married) menjadi kelompok customer yang paling banyak melakukan pembelian produk dalam 2 tahun terakhir sebanyak $506.888.\n",
    "- Customer Widow paling sedikit melakukan pembelian produk sebesar $55.325.\n",
    "\n",
    "Dari perbandingan `Income` dan `Expenses` dari masing-masing kelompok status perkawinan, ternyata kelompok Married menjadi kelompok dengan daya beli tertinggi. Hal ini sejalan dengan banyaknya proporsi jumlah customer berdasarkan `Marital_Status`-nya yang dimana kelompok Married adalah kelompok customer terbanyak dari kelompok lainnya yaitu sebesar 38.7% dari total populasi. \n",
    "\n",
    "Namun dari median `Income` yang tidak berbeda signifikan, ternyata menunjukkan daya beli yang berbeda signifikan. Hal ini dapat diperkirakan bahwa apabila sudah menikah, maka kebutuhan hidup juga semakin meningkat sehingga daya beli juga menjadi lebih tinggi."
   ]
  },
  {
   "cell_type": "markdown",
   "metadata": {},
   "source": [
    "### **Business Question 5**\n",
    "\n",
    "Bagaimana hubungan korelasi antara `Expense`, `Income`, dan `Num_Children`?"
   ]
  },
  {
   "cell_type": "code",
   "execution_count": 54,
   "metadata": {},
   "outputs": [
    {
     "data": {
      "text/html": [
       "<div>\n",
       "<style scoped>\n",
       "    .dataframe tbody tr th:only-of-type {\n",
       "        vertical-align: middle;\n",
       "    }\n",
       "\n",
       "    .dataframe tbody tr th {\n",
       "        vertical-align: top;\n",
       "    }\n",
       "\n",
       "    .dataframe thead th {\n",
       "        text-align: right;\n",
       "    }\n",
       "</style>\n",
       "<table border=\"1\" class=\"dataframe\">\n",
       "  <thead>\n",
       "    <tr style=\"text-align: right;\">\n",
       "      <th></th>\n",
       "      <th>Num_Children</th>\n",
       "      <th>Income</th>\n",
       "    </tr>\n",
       "  </thead>\n",
       "  <tbody>\n",
       "    <tr>\n",
       "      <th>0</th>\n",
       "      <td>0</td>\n",
       "      <td>72174.5</td>\n",
       "    </tr>\n",
       "    <tr>\n",
       "      <th>1</th>\n",
       "      <td>1</td>\n",
       "      <td>47215.5</td>\n",
       "    </tr>\n",
       "    <tr>\n",
       "      <th>2</th>\n",
       "      <td>2</td>\n",
       "      <td>44064.5</td>\n",
       "    </tr>\n",
       "    <tr>\n",
       "      <th>3</th>\n",
       "      <td>3</td>\n",
       "      <td>44277.0</td>\n",
       "    </tr>\n",
       "  </tbody>\n",
       "</table>\n",
       "</div>"
      ],
      "text/plain": [
       "   Num_Children   Income\n",
       "0             0  72174.5\n",
       "1             1  47215.5\n",
       "2             2  44064.5\n",
       "3             3  44277.0"
      ]
     },
     "execution_count": 54,
     "metadata": {},
     "output_type": "execute_result"
    }
   ],
   "source": [
    "# Menampilkan median 'Income' berdasarkan jumlah 'Num_Children' customer\n",
    "df.groupby('Num_Children', as_index=False)[['Income']].median()"
   ]
  },
  {
   "cell_type": "markdown",
   "metadata": {},
   "source": [
    "Dari table summary diatas, dapat diketahui bahwa untuk customer yang belum memiliki anak memiliki median `Income` yang lebih tinggi dari kelompok lainnya. Namun customer dengan 1, 2, dan 3 anak tidak diketahui apakah median `Income`-nya berbeda signifikan atau tidak. Sehingga untuk menguji hipotesis tersebut, saya akan melakukan uji statistik menggunakan Mann-Whitney. Uji statistik dilakukan dua kali dengan membandingkan median `Income` customer dengan 1 anak vs 2 anak dan median `Income` customer dengan 2 anak vs 3 anak."
   ]
  },
  {
   "cell_type": "code",
   "execution_count": 55,
   "metadata": {},
   "outputs": [
    {
     "name": "stdout",
     "output_type": "stream",
     "text": [
      "pvalue = 0.006573. pvalue <= 0.05. Reject Ho.\n",
      "Kita punya cukup bukti bahwa median 'Income' customer dengan 1 anak != median 'Income' customer dengan 2 anak\n"
     ]
    }
   ],
   "source": [
    "# Hypothesis\n",
    "# Ho: Median 'Income' customer dengan 1 anak = median 'Income' customer dengan 2 anak\n",
    "# Ha: Median 'Income' customer dengan 1 anak != median 'Income' customer dengan 2 anak\n",
    "\n",
    "stat, pvalue = mannwhitneyu(\n",
    "    df[df['Num_Children']== 1 ]['Income'],\n",
    "    df[df['Num_Children']== 2 ]['Income'],\n",
    ")\n",
    "\n",
    "if pvalue > 0.05:\n",
    "    print(f\"pvalue = {pvalue:5f}. pvalue > 0.05. Fail to reject Ho.\\nTIDAK punya cukup bukti bahwa median 'Income' customer dengan 1 anak != median 'Income' customer dengan 2 anak\")\n",
    "else:\n",
    "    print(f\"pvalue = {pvalue:5f}. pvalue <= 0.05. Reject Ho.\\nKita punya cukup bukti bahwa median 'Income' customer dengan 1 anak != median 'Income' customer dengan 2 anak\")"
   ]
  },
  {
   "cell_type": "code",
   "execution_count": 56,
   "metadata": {},
   "outputs": [
    {
     "name": "stdout",
     "output_type": "stream",
     "text": [
      "pvalue = 0.589457. pvalue > 0.05. Fail to reject Ho.\n",
      "TIDAK punya cukup bukti bahwa median 'Income' customer dengan 2 anak != median 'Income' customer dengan 3 anak\n"
     ]
    }
   ],
   "source": [
    "# Hypothesis\n",
    "# Ho: Median 'Income' customer dengan 2 anak = median 'Income' customer dengan 3 anak\n",
    "# Ha: Median 'Income' customer dengan 2 anak != median 'Income' customer dengan 3 anak\n",
    "\n",
    "stat, pvalue = mannwhitneyu(\n",
    "    df[df['Num_Children']== 2 ]['Income'],\n",
    "    df[df['Num_Children']== 3 ]['Income']\n",
    ")\n",
    "\n",
    "if pvalue > 0.05:\n",
    "    print(f\"pvalue = {pvalue:5f}. pvalue > 0.05. Fail to reject Ho.\\nTIDAK punya cukup bukti bahwa median 'Income' customer dengan 2 anak != median 'Income' customer dengan 3 anak\")\n",
    "else:\n",
    "    print(f\"pvalue = {pvalue:5f}. pvalue <= 0.05. Reject Ho.\\nKita punya cukup bukti bahwa median 'Income' customer dengan 2 anak != median 'Income' customer dengan 3 anak\")"
   ]
  },
  {
   "cell_type": "markdown",
   "metadata": {},
   "source": [
    "Dari hasil uji statistik diatas, diketahui bahwa:\n",
    "- Median `Income` customer dengan 1 anak berbeda signifikan dengan customer dengan 2 anak (pvalue = 0.006573).\n",
    "- Median `Income` customer dengan 2 anak *tidak* berbeda signifikan dengan customer dengan 3 anak (pvalue = 0.589457)."
   ]
  },
  {
   "cell_type": "code",
   "execution_count": 57,
   "metadata": {},
   "outputs": [
    {
     "data": {
      "text/html": [
       "<div>\n",
       "<style scoped>\n",
       "    .dataframe tbody tr th:only-of-type {\n",
       "        vertical-align: middle;\n",
       "    }\n",
       "\n",
       "    .dataframe tbody tr th {\n",
       "        vertical-align: top;\n",
       "    }\n",
       "\n",
       "    .dataframe thead th {\n",
       "        text-align: right;\n",
       "    }\n",
       "</style>\n",
       "<table border=\"1\" class=\"dataframe\">\n",
       "  <thead>\n",
       "    <tr style=\"text-align: right;\">\n",
       "      <th></th>\n",
       "      <th>Num_Children</th>\n",
       "      <th>Expenses</th>\n",
       "    </tr>\n",
       "  </thead>\n",
       "  <tbody>\n",
       "    <tr>\n",
       "      <th>0</th>\n",
       "      <td>0</td>\n",
       "      <td>697769</td>\n",
       "    </tr>\n",
       "    <tr>\n",
       "      <th>1</th>\n",
       "      <td>1</td>\n",
       "      <td>530091</td>\n",
       "    </tr>\n",
       "    <tr>\n",
       "      <th>2</th>\n",
       "      <td>2</td>\n",
       "      <td>102642</td>\n",
       "    </tr>\n",
       "    <tr>\n",
       "      <th>3</th>\n",
       "      <td>3</td>\n",
       "      <td>12775</td>\n",
       "    </tr>\n",
       "  </tbody>\n",
       "</table>\n",
       "</div>"
      ],
      "text/plain": [
       "   Num_Children  Expenses\n",
       "0             0    697769\n",
       "1             1    530091\n",
       "2             2    102642\n",
       "3             3     12775"
      ]
     },
     "execution_count": 57,
     "metadata": {},
     "output_type": "execute_result"
    }
   ],
   "source": [
    "# Menampilkan 'Expenses' berdasarkan jumlah 'Num_Children' customer\n",
    "df.groupby('Num_Children', as_index=False)[['Expenses']].sum()"
   ]
  },
  {
   "cell_type": "code",
   "execution_count": 58,
   "metadata": {},
   "outputs": [
    {
     "data": {
      "image/png": "[encoded data removed]",
      "text/plain": [
       "<Figure size 1296x432 with 2 Axes>"
      ]
     },
     "metadata": {
      "needs_background": "light"
     },
     "output_type": "display_data"
    }
   ],
   "source": [
    "fig = plt.figure(figsize=(18,6))\n",
    "\n",
    "fig.suptitle('Visualization Income and Expenses by Number of Children\\n', size=16)\n",
    "\n",
    "plt.subplot(1,2,1)\n",
    "sns.boxplot(data=df, y='Income', x= 'Num_Children', palette='YlOrRd')\n",
    "plt.title('Income', size=14)\n",
    "plt.xlabel('Number of Children',labelpad=10)\n",
    "plt.ylabel('Income',labelpad=10)\n",
    "\n",
    "plt.subplot(1,2,2)\n",
    "a2 = sns.barplot(data=df, y='Expenses', x= 'Num_Children', palette='YlOrRd', estimator=sum, ci=0)\n",
    "plt.title('TotalExpenses', size=14)\n",
    "plt.xlabel('Number of Children',labelpad=10)\n",
    "plt.ylabel('Total Expenses',labelpad=10)\n",
    "plt.ylim(0,750000)\n",
    "for p in a2.patches:\n",
    "    a2.annotate(f'$ {p.get_height()}', (p.get_x()+0.4, p.get_height()+40000), ha='center', va='top', color='black', size=12)\n",
    "\n",
    "plt.tight_layout();"
   ]
  },
  {
   "cell_type": "markdown",
   "metadata": {},
   "source": [
    "Berdasarkan grafik diatas, kita dapat mengetahui bahwa:\n",
    "- Median `Income` dari customer yang belum memiliki anak (`Num_Children` = 0) lebih tinggi daripada kelompok lainnya.\n",
    "- Customer yang belum memiliki anak juga menjadi kelompok dengan `Expenses` tertinggi ($697.769), sedangkan `Expenses` dari customer dengan 3 anak adalah yang paling rendah ($12.775).\n",
    "- Range `Income` customer yang belum mempunyai anak lebih lebar dari kelompok lainnya.\n",
    "- Terdapat beberapa outlier pada masing-masing kelompok `Num_Children`.\n",
    "\n",
    "Dari data diatas dapat diinterpretasikan bahwa customer yang belum memiliki anak expensenya yang lebih tinggi karena belum memiliki kebutuhan untuk anak dibandingkan dengan customer yang memiliki 2 / 3 anak. Ditambah perusahaan juga tidak menjual produk yang berhubungan dengan kebutuhan anak, sehingga customer yang memiliki 2 / 3 anak pun hanya membelikan produk yang dibutuhkan saja.\n",
    "\n",
    "Dari analisa tersebut, selanjutnya saya ingin mengetahui bagaimana hubungan korelasi antara `Expenses`, `Income`, dan `Num_Children`. "
   ]
  },
  {
   "cell_type": "code",
   "execution_count": 59,
   "metadata": {},
   "outputs": [
    {
     "data": {
      "text/html": [
       "<div>\n",
       "<style scoped>\n",
       "    .dataframe tbody tr th:only-of-type {\n",
       "        vertical-align: middle;\n",
       "    }\n",
       "\n",
       "    .dataframe tbody tr th {\n",
       "        vertical-align: top;\n",
       "    }\n",
       "\n",
       "    .dataframe thead th {\n",
       "        text-align: right;\n",
       "    }\n",
       "</style>\n",
       "<table border=\"1\" class=\"dataframe\">\n",
       "  <thead>\n",
       "    <tr style=\"text-align: right;\">\n",
       "      <th></th>\n",
       "      <th>Expenses</th>\n",
       "      <th>Income</th>\n",
       "      <th>Num_Children</th>\n",
       "    </tr>\n",
       "  </thead>\n",
       "  <tbody>\n",
       "    <tr>\n",
       "      <th>Num_Children</th>\n",
       "      <td>-0.483948</td>\n",
       "      <td>-0.375782</td>\n",
       "      <td>1.0</td>\n",
       "    </tr>\n",
       "  </tbody>\n",
       "</table>\n",
       "</div>"
      ],
      "text/plain": [
       "              Expenses    Income  Num_Children\n",
       "Num_Children -0.483948 -0.375782           1.0"
      ]
     },
     "execution_count": 59,
     "metadata": {},
     "output_type": "execute_result"
    }
   ],
   "source": [
    "# Melakukan uji korelasi 'Expenses', 'Income', dan 'Num_Children'\n",
    "corr = df[['Expenses','Income','Num_Children']].corr('spearman').loc[['Num_Children']]\n",
    "corr"
   ]
  },
  {
   "cell_type": "code",
   "execution_count": 60,
   "metadata": {},
   "outputs": [
    {
     "name": "stdout",
     "output_type": "stream",
     "text": [
      "Hasil Correlation Coefficient (r) Num_Children vs Expenses = -0.483948\n",
      "Hubungan korelasi negatif\n",
      "Nilai -0.483948: Hubungannya moderate\n"
     ]
    }
   ],
   "source": [
    "# Membuat fungsi untuk menentukan hubungan korelasi jika nilai (r) negatif\n",
    "def arah_negative (nilai):\n",
    "    if (nilai >= -0.2):\n",
    "        return('Hubungannya sangat lemah')\n",
    "    elif (-0.2 >= nilai >= -0.4):\n",
    "        return('Hubungannya lemah')\n",
    "    elif (-0.4 >= nilai >= -0.6):\n",
    "        return('Hubungannya moderate')\n",
    "    elif (-0.6 >= nilai >= -0.8):\n",
    "        return('Hubungannya kuat')\n",
    "    else:\n",
    "        return('Hubungannya sangat kuat')\n",
    "\n",
    "print(f'Hasil Correlation Coefficient (r) Num_Children vs Expenses = {corr.iloc[:,0][0]:5f}')\n",
    "print(f'{hubungan(corr.iloc[:,0][0])}')\n",
    "print(f'Nilai {corr.iloc[:,0][0]:5f}: {arah_negative(corr.iloc[:,0][0])}')"
   ]
  },
  {
   "cell_type": "code",
   "execution_count": 61,
   "metadata": {},
   "outputs": [
    {
     "name": "stdout",
     "output_type": "stream",
     "text": [
      "Hasil Correlation Coefficient (r) Num_Children vs Income = -0.375782\n",
      "Hubungan korelasi negatif\n",
      "Nilai -0.375782: Hubungannya lemah\n"
     ]
    }
   ],
   "source": [
    "print(f'Hasil Correlation Coefficient (r) Num_Children vs Income = {corr.iloc[:,1][0]:5f}')\n",
    "print(f'{hubungan(corr.iloc[:,1][0])}')\n",
    "print(f'Nilai {corr.iloc[:,1][0]:5f}: {arah_negative(corr.iloc[:,1][0])}')"
   ]
  },
  {
   "cell_type": "code",
   "execution_count": 62,
   "metadata": {},
   "outputs": [
    {
     "data": {
      "image/png": "[encoded data removed]",
      "text/plain": [
       "<Figure size 864x432 with 2 Axes>"
      ]
     },
     "metadata": {
      "needs_background": "light"
     },
     "output_type": "display_data"
    }
   ],
   "source": [
    "grid_kw = {'height_ratios':(20,1), 'hspace':0.2}\n",
    "\n",
    "fig, (ax_top,ax_bottom) = plt.subplots(nrows=2, figsize=(12,6), gridspec_kw=grid_kw)\n",
    "ax_top = sns.heatmap(\n",
    "    corr,\n",
    "    annot=True,\n",
    "    ax=ax_top,\n",
    "    cbar_ax=ax_bottom,\n",
    "    cbar_kws={'orientation':'horizontal'},\n",
    "    cmap='YlOrRd',\n",
    "    center=0,\n",
    "    square=True\n",
    ")\n",
    "\n",
    "ax_top.set_title('Heatmap: Expenses vs Income vs Number of Children\\n', size=14);\n"
   ]
  },
  {
   "cell_type": "markdown",
   "metadata": {},
   "source": [
    "Dari hasil uji korelasi diatas, diketahui bahwa:\n",
    "- `Num_Children` dan `Expenses`\n",
    "    - Hubungannya negatif (nilai correlation coefficient = -0.483948) dan kekuatan hubungannya moderate.\n",
    "    - Interpretasi: semakin banyak jumlah anak yang dimiliki customer, maka semakin sedikit `Expense` dari customer tersebut. \n",
    "<br><br>\n",
    "- `Num_Children` dan `Income`\n",
    "    - Hubungannya negatif (nilai correlation coefficient = -0.375782) dan kekuatan hubungannya lemah.\n",
    "    - Interpretasi: semakin banyak jumlah anak yang dimiliki customer, maka semakin menurun `Income` dari customer tersebut. \n",
    "\n",
    "Jika dibandingkan ketiga variabel diatas, maka variabel `Expenses` yang memiliki hubungan lebih kuat dengan `Num_Children` daripada variabel `Income`."
   ]
  },
  {
   "cell_type": "markdown",
   "metadata": {},
   "source": [
    "### **Business Question 6**\n",
    "\n",
    "Pada purchase source manakah customer lebih banyak membeli produknya (web, catalog, store)?"
   ]
  },
  {
   "cell_type": "code",
   "execution_count": 63,
   "metadata": {},
   "outputs": [
    {
     "data": {
      "text/html": [
       "<div>\n",
       "<style scoped>\n",
       "    .dataframe tbody tr th:only-of-type {\n",
       "        vertical-align: middle;\n",
       "    }\n",
       "\n",
       "    .dataframe tbody tr th {\n",
       "        vertical-align: top;\n",
       "    }\n",
       "\n",
       "    .dataframe thead th {\n",
       "        text-align: right;\n",
       "    }\n",
       "</style>\n",
       "<table border=\"1\" class=\"dataframe\">\n",
       "  <thead>\n",
       "    <tr style=\"text-align: right;\">\n",
       "      <th></th>\n",
       "      <th>source</th>\n",
       "      <th>total_purchase</th>\n",
       "      <th>%</th>\n",
       "    </tr>\n",
       "  </thead>\n",
       "  <tbody>\n",
       "    <tr>\n",
       "      <th>0</th>\n",
       "      <td>Web</td>\n",
       "      <td>9043</td>\n",
       "      <td>32.53</td>\n",
       "    </tr>\n",
       "    <tr>\n",
       "      <th>1</th>\n",
       "      <td>Catalog</td>\n",
       "      <td>5911</td>\n",
       "      <td>21.26</td>\n",
       "    </tr>\n",
       "    <tr>\n",
       "      <th>2</th>\n",
       "      <td>Store</td>\n",
       "      <td>12844</td>\n",
       "      <td>46.20</td>\n",
       "    </tr>\n",
       "  </tbody>\n",
       "</table>\n",
       "</div>"
      ],
      "text/plain": [
       "    source  total_purchase      %\n",
       "0      Web            9043  32.53\n",
       "1  Catalog            5911  21.26\n",
       "2    Store           12844  46.20"
      ]
     },
     "execution_count": 63,
     "metadata": {},
     "output_type": "execute_result"
    }
   ],
   "source": [
    "# Membuat dataframe berupa total purchase dari masing-masing purchase source\n",
    "my_col = list(df.iloc[:,19:22].columns)\n",
    "\n",
    "purchase_source = pd.DataFrame()\n",
    "purchase_source['source'] = ['Web','Catalog','Store']\n",
    "purchase_source['total_purchase'] = [df[i].sum() for i in my_col]\n",
    "purchase_source['%'] = round(purchase_source['total_purchase']/purchase_source['total_purchase'].sum() * 100,2)\n",
    "purchase_source"
   ]
  },
  {
   "cell_type": "code",
   "execution_count": 64,
   "metadata": {},
   "outputs": [],
   "source": [
    "# Membuat dataframe korelasi pembelian berdasarkan purchase source dengan beberapa variabel \n",
    "corr_2 = df[['NumWebPurchases','NumStorePurchases','NumCatalogPurchases','Age','Income','Num_Children']].corr('spearman')"
   ]
  },
  {
   "cell_type": "code",
   "execution_count": 65,
   "metadata": {},
   "outputs": [
    {
     "data": {
      "image/png": "[encoded data removed]",
      "text/plain": [
       "<Figure size 1296x576 with 3 Axes>"
      ]
     },
     "metadata": {},
     "output_type": "display_data"
    }
   ],
   "source": [
    "# Menampilkan pie chart\n",
    "myColor = ['#73A9AD', '#90C8AC', '#C4DFAA']\n",
    "\n",
    "plt.figure(figsize=(18,8),facecolor='white')\n",
    "\n",
    "plt.subplot(1,2,1)\n",
    "plt.pie(\n",
    "    x=purchase_source['%'],\n",
    "    labels=purchase_source['source'],\n",
    "    autopct=f'%.2f%%',\n",
    "    startangle=90,\n",
    "    textprops={'fontsize': 14},\n",
    "    colors= myColor)\n",
    "plt.title('Proportion of Purchases by Purchase Source', size=16)\n",
    "\n",
    "# Menampilkan heatmap \n",
    "plt.subplot(1,2,2)\n",
    "plt.title('\\nHeatmap: Purchases by Purchases Source vs Other Variables\\n', size=16)\n",
    "sns.heatmap(corr_2, center=0, annot=True, cmap='GnBu', square=True)\n",
    "\n",
    "plt.tight_layout();\n"
   ]
  },
  {
   "cell_type": "markdown",
   "metadata": {},
   "source": [
    "Berdasarkan grafik diatas, kita dapat mengetahui bahwa:\n",
    "- Proporsi pembelian terbesar adalah melalui Store (46.20%)\n",
    "- Proporsi pembelian terkecil adalah melalui Catalog (21.26%)\n",
    "\n",
    "Selain itu, saya juga melakukan uji korelasi untuk melihat hubungan total purchase berdasarkan purchase sourcenya dengan variabel lain. Dari hasil uji korelasi dan grafik heatmap diatas, didapatkan insight berupa:\n",
    "- Variabel yang memiliki korelasi positif terkuat adalah `NumCatalogPurchases` dengan `Income` = 0.79\n",
    "- Variabel yang memiliki korelasi negatif terkuat adalah `NumCatalogPurchases` dengan `Num_Children` = -0.46\n",
    "\n",
    "Dari penjelasan diatas dapat diinterpretasikan bahwa customer lebih banyak yang berbelanja langsung ke Store daripada berbelanja via katalog. Namun pembelanjaan melalui katalog memiliki hubungan korelasi positif yang kuat dengan pendapatan customer, dimana semakin tinggi pendapatan customer maka semakin tinggi angka pembelanjaan via katalog. Hal ini disebabkan karena secara [teori](https://hbr.org/2022/07/how-paper-catalogs-remain-relevant-in-a-digital-age), produk yang bernilai mahal lebih menguntungkan untuk dipasarkan via katalog, oleh karena itu dapat diasumsikan pengguna katalog adalah para customer yang tingkat pendapatannya tinggi.\n",
    "\n",
    "Selain itu pembelanjaan via katalog memiliki hubungan korelasi negatif yang kekuatannya moderat dengan jumlah anak, dimana semakin sedikit jumlah anak yang dimiliki maka semakin tinggi angka pembelanjaan via katalog. Hal ini sejalan dengan penjelasan pada business question sebelumnya dimana populasi customer dalam 2 tahun terakhir berdasarkan tingkat pendapatannya didominasi oleh customer yang belum memiliki anak. "
   ]
  },
  {
   "cell_type": "code",
   "execution_count": 66,
   "metadata": {},
   "outputs": [
    {
     "data": {
      "text/html": [
       "<div>\n",
       "<style scoped>\n",
       "    .dataframe tbody tr th:only-of-type {\n",
       "        vertical-align: middle;\n",
       "    }\n",
       "\n",
       "    .dataframe tbody tr th {\n",
       "        vertical-align: top;\n",
       "    }\n",
       "\n",
       "    .dataframe thead th {\n",
       "        text-align: right;\n",
       "    }\n",
       "</style>\n",
       "<table border=\"1\" class=\"dataframe\">\n",
       "  <thead>\n",
       "    <tr style=\"text-align: right;\">\n",
       "      <th>Income_Class</th>\n",
       "      <th>Low</th>\n",
       "      <th>Medium</th>\n",
       "      <th>High</th>\n",
       "    </tr>\n",
       "  </thead>\n",
       "  <tbody>\n",
       "    <tr>\n",
       "      <th>NumWebPurchases</th>\n",
       "      <td>1112</td>\n",
       "      <td>4991</td>\n",
       "      <td>2940</td>\n",
       "    </tr>\n",
       "    <tr>\n",
       "      <th>NumCatalogPurchases</th>\n",
       "      <td>263</td>\n",
       "      <td>2484</td>\n",
       "      <td>3164</td>\n",
       "    </tr>\n",
       "    <tr>\n",
       "      <th>NumStorePurchases</th>\n",
       "      <td>1637</td>\n",
       "      <td>6569</td>\n",
       "      <td>4638</td>\n",
       "    </tr>\n",
       "  </tbody>\n",
       "</table>\n",
       "</div>"
      ],
      "text/plain": [
       "Income_Class          Low  Medium  High\n",
       "NumWebPurchases      1112    4991  2940\n",
       "NumCatalogPurchases   263    2484  3164\n",
       "NumStorePurchases    1637    6569  4638"
      ]
     },
     "metadata": {},
     "output_type": "display_data"
    },
    {
     "data": {
      "text/html": [
       "<div>\n",
       "<style scoped>\n",
       "    .dataframe tbody tr th:only-of-type {\n",
       "        vertical-align: middle;\n",
       "    }\n",
       "\n",
       "    .dataframe tbody tr th {\n",
       "        vertical-align: top;\n",
       "    }\n",
       "\n",
       "    .dataframe thead th {\n",
       "        text-align: right;\n",
       "    }\n",
       "</style>\n",
       "<table border=\"1\" class=\"dataframe\">\n",
       "  <thead>\n",
       "    <tr style=\"text-align: right;\">\n",
       "      <th>Num_Children</th>\n",
       "      <th>0</th>\n",
       "      <th>1</th>\n",
       "      <th>2</th>\n",
       "      <th>3</th>\n",
       "    </tr>\n",
       "  </thead>\n",
       "  <tbody>\n",
       "    <tr>\n",
       "      <th>NumWebPurchases</th>\n",
       "      <td>2785</td>\n",
       "      <td>4765</td>\n",
       "      <td>1352</td>\n",
       "      <td>141</td>\n",
       "    </tr>\n",
       "    <tr>\n",
       "      <th>NumCatalogPurchases</th>\n",
       "      <td>3013</td>\n",
       "      <td>2395</td>\n",
       "      <td>453</td>\n",
       "      <td>50</td>\n",
       "    </tr>\n",
       "    <tr>\n",
       "      <th>NumStorePurchases</th>\n",
       "      <td>4595</td>\n",
       "      <td>6260</td>\n",
       "      <td>1801</td>\n",
       "      <td>188</td>\n",
       "    </tr>\n",
       "  </tbody>\n",
       "</table>\n",
       "</div>"
      ],
      "text/plain": [
       "Num_Children            0     1     2    3\n",
       "NumWebPurchases      2785  4765  1352  141\n",
       "NumCatalogPurchases  3013  2395   453   50\n",
       "NumStorePurchases    4595  6260  1801  188"
      ]
     },
     "metadata": {},
     "output_type": "display_data"
    }
   ],
   "source": [
    "# Table summary dari total purchase berdasarkan purchase source dan Income_Class & Num_Children\n",
    "display(\n",
    "    df.groupby('Income_Class').sum().iloc[:,14:17].T,\n",
    "    df.groupby('Num_Children').sum().iloc[:,13:16].T)"
   ]
  },
  {
   "cell_type": "markdown",
   "metadata": {},
   "source": [
    "### **Business Question 7**\n",
    "\n",
    "Bagaimana respon customer terhadap marketing campaign yang telah dibuat? "
   ]
  },
  {
   "cell_type": "code",
   "execution_count": 67,
   "metadata": {},
   "outputs": [
    {
     "data": {
      "text/html": [
       "<div>\n",
       "<style scoped>\n",
       "    .dataframe tbody tr th:only-of-type {\n",
       "        vertical-align: middle;\n",
       "    }\n",
       "\n",
       "    .dataframe tbody tr th {\n",
       "        vertical-align: top;\n",
       "    }\n",
       "\n",
       "    .dataframe thead th {\n",
       "        text-align: right;\n",
       "    }\n",
       "</style>\n",
       "<table border=\"1\" class=\"dataframe\">\n",
       "  <thead>\n",
       "    <tr style=\"text-align: right;\">\n",
       "      <th></th>\n",
       "      <th>Acc_Cmp</th>\n",
       "      <th>Total</th>\n",
       "      <th>%</th>\n",
       "    </tr>\n",
       "  </thead>\n",
       "  <tbody>\n",
       "    <tr>\n",
       "      <th>0</th>\n",
       "      <td>No</td>\n",
       "      <td>1608</td>\n",
       "      <td>72.69</td>\n",
       "    </tr>\n",
       "    <tr>\n",
       "      <th>1</th>\n",
       "      <td>Yes</td>\n",
       "      <td>604</td>\n",
       "      <td>27.31</td>\n",
       "    </tr>\n",
       "  </tbody>\n",
       "</table>\n",
       "</div>"
      ],
      "text/plain": [
       "  Acc_Cmp  Total      %\n",
       "0      No   1608  72.69\n",
       "1     Yes    604  27.31"
      ]
     },
     "execution_count": 67,
     "metadata": {},
     "output_type": "execute_result"
    }
   ],
   "source": [
    "# Menampilkan jumlah respon customer terkait campaign dari marketing\n",
    "acc_cmp_1 = pd.Series(data=['Yes' if i > 0 else 'No' for i in df['Total_AccCmp']]).value_counts().to_frame().reset_index().rename(columns={0:'Total','index':'Acc_Cmp'})\n",
    "acc_cmp_1['%'] = round(acc_cmp_1['Total']/acc_cmp_1['Total'].sum()*100,2)\n",
    "acc_cmp_1"
   ]
  },
  {
   "cell_type": "code",
   "execution_count": 68,
   "metadata": {},
   "outputs": [
    {
     "data": {
      "text/html": [
       "<div>\n",
       "<style scoped>\n",
       "    .dataframe tbody tr th:only-of-type {\n",
       "        vertical-align: middle;\n",
       "    }\n",
       "\n",
       "    .dataframe tbody tr th {\n",
       "        vertical-align: top;\n",
       "    }\n",
       "\n",
       "    .dataframe thead th {\n",
       "        text-align: right;\n",
       "    }\n",
       "</style>\n",
       "<table border=\"1\" class=\"dataframe\">\n",
       "  <thead>\n",
       "    <tr style=\"text-align: right;\">\n",
       "      <th></th>\n",
       "      <th>Num_Acc_Cmp</th>\n",
       "      <th>Total</th>\n",
       "    </tr>\n",
       "  </thead>\n",
       "  <tbody>\n",
       "    <tr>\n",
       "      <th>0</th>\n",
       "      <td>0</td>\n",
       "      <td>1608</td>\n",
       "    </tr>\n",
       "    <tr>\n",
       "      <th>1</th>\n",
       "      <td>1</td>\n",
       "      <td>368</td>\n",
       "    </tr>\n",
       "    <tr>\n",
       "      <th>2</th>\n",
       "      <td>2</td>\n",
       "      <td>139</td>\n",
       "    </tr>\n",
       "    <tr>\n",
       "      <th>3</th>\n",
       "      <td>3</td>\n",
       "      <td>51</td>\n",
       "    </tr>\n",
       "    <tr>\n",
       "      <th>4</th>\n",
       "      <td>4</td>\n",
       "      <td>36</td>\n",
       "    </tr>\n",
       "    <tr>\n",
       "      <th>5</th>\n",
       "      <td>5</td>\n",
       "      <td>10</td>\n",
       "    </tr>\n",
       "  </tbody>\n",
       "</table>\n",
       "</div>"
      ],
      "text/plain": [
       "   Num_Acc_Cmp  Total\n",
       "0            0   1608\n",
       "1            1    368\n",
       "2            2    139\n",
       "3            3     51\n",
       "4            4     36\n",
       "5            5     10"
      ]
     },
     "execution_count": 68,
     "metadata": {},
     "output_type": "execute_result"
    }
   ],
   "source": [
    "# Menampilkan total respon customer terkait campaign berdasarkan jumlah keterlibatannya dalam setiap campaign\n",
    "df['Total_AccCmp'].value_counts().to_frame().reset_index().rename(columns={'Total_AccCmp':'Total','index':'Num_Acc_Cmp'})"
   ]
  },
  {
   "cell_type": "code",
   "execution_count": 69,
   "metadata": {},
   "outputs": [
    {
     "data": {
      "image/png": "[encoded data removed]",
      "text/plain": [
       "<Figure size 1440x576 with 2 Axes>"
      ]
     },
     "metadata": {},
     "output_type": "display_data"
    }
   ],
   "source": [
    "myColor = ['#fb8072', '#8dd3c7']\n",
    "\n",
    "plt.figure(figsize=(20,8),facecolor='white')\n",
    "\n",
    "plt.subplot(1,2,1)\n",
    "plt.pie(\n",
    "    x=acc_cmp_1['%'],\n",
    "    labels=acc_cmp_1['Acc_Cmp'],\n",
    "    autopct=f'%.2f%%',\n",
    "    startangle=90,\n",
    "    textprops={'fontsize': 14},\n",
    "    colors= myColor\n",
    ")\n",
    "plt.title('\\nProportion of Customer\\'s Campaign Acceptance\\n',size=16)\n",
    "\n",
    "\n",
    "plt.subplot(1,2,2)\n",
    "ax = sns.countplot(data=df, x='Total_AccCmp', palette='Set3')\n",
    "plt.title('\\nNumber of Customer\\'s Campaign Acceptance\\n',size=16)\n",
    "plt.xlabel('Accepted Campaign (times)',labelpad=10)\n",
    "plt.ylabel('Count',labelpad=10)\n",
    "for p in ax.patches:\n",
    "    ax.annotate(f'{p.get_height()}', (p.get_x()+0.4, p.get_height()+50), ha='center', va='top', color='black', size=12)\n",
    "\n",
    "plt.tight_layout;"
   ]
  },
  {
   "cell_type": "markdown",
   "metadata": {},
   "source": [
    "Dari table dan grafik diatas, diketahui bahwa:\n",
    "- Hanya 27.31% customer yang pernah menerima penawaran dari campaign, minimal 1 kali.\n",
    "- Jumlah penerimaan penawaran dari campaign menunjukkan perubahan dimana jumlah customer yang pernah menerima penawaran 1 kali terus menurun hingga jumlah customer yang menerima penawaran 5 kali.\n",
    "\n",
    "Hal ini dapat diinterpretasikan bahwa campaign yang dilakukan masih kurang menarik perhatian customer melihat dari banyaknya campaign yang telah dilakukan, respon customer terus menunjukkan penurunan. Bahkan dari total populasi, lebih dari 70% customer tidak pernah terlibat dari campaign yang telah dilakukan. "
   ]
  },
  {
   "cell_type": "markdown",
   "metadata": {},
   "source": [
    "## **Kesimpulan**\n",
    "---\n",
    "Dari proses analisis data yang telah dilakukan, maka dapat dibuat kesimpulan sebagai berikut:\n",
    "\n",
    "- Customer Older Adult adalah customer yang paling royal karena total uang yang dibelanjakan paling tinggi dalam 2 tahun terakhir daripada kelompok usia lainnya.\n",
    "- Secara produk, customer Mid-Age Adult memiliki daya beli paling tinggi karena menjadi customer pembeli terbanyak pada 5 dari 6 produk yang dijual. Produk lainnya (Wine) dibeli paling banyak oleh customer Older Adult.\n",
    "- `Expense` dan `Income` hubungannya berkorelasi positif dan sangat kuat, artinya semakin tinggi `Income` customer, maka semakin banyak `Expense` yang dikeluarkan.\n",
    "- Customer yang sudah menikah adalah customer yang paling royal karena total uang yang dibelanjakan paling tinggi dalam 2 tahun terakhir daripada customer berdasarkan status perkawinan lainnya.\n",
    "- Customer yang belum mempunyai anak adalah customer yang paling royal  karena total uang yang dibelanjakan paling tinggi dalam 2 tahun terakhir daripada customer berdasarkan jumlah anak lainnya.\n",
    "- `Expenses` dan `Num_Children` hubungannya berkorelasi negatif dan kekuatan hubungannya moderate, artinya semakin banyak jumlah anak yang dimiliki customer, maka semakin sedikit `Expense` dari customer tersebut.\n",
    "- Dari 3 purchase source (web, store, katalog), customer lebih banyak melakukan pembelanjaannya via store.\n",
    "- Dari 3 purchase source, pembelian via katalog memiliki hubungan korelasi positif terkuat dengan pendapatan customer dan memiliki hubungan korelasi negatif terkuat dengan variabel jumlah anak customer.\n",
    "- Dari total populasi customer, hanya 27.31% customer yang pernah menerima penawaran dari campaign, minimal 1 kali.\n"
   ]
  },
  {
   "cell_type": "markdown",
   "metadata": {},
   "source": [
    "## **Rekomendasi**\n",
    "---\n",
    "- Apabila perusahaan ingin memperluas jangkauan pasar, disarankan untuk meningkatkan campaign kepada kelompok-kelompok yang total pembeliannya paling rendah dalam 2 tahun terakhir (young adult, customer widow, dan customer yang memiliki anak).\n",
    "    - Tidak hanya kepada kelompok dengan total pembelian paling rendah, namun juga ditingkatkan marketing campaignnya kepada seluruh existing customer.\n",
    "    - Apabila memungkinkan, menambahkan jenis produk yang dijual dengan lebih variatif.\n",
    "- Pemberian reward kepada customer-customer yang paling royal agar meningkatkan daya belinya.\n",
    "- Memaksimalkan penjualan pada purchase source via katalog dan web. Jika ingin meningkatkan revenue, maka penjualan via katalog dapat lebih diutamakan karena lebih banyak digunakan oleh customer yang tingkat pendapatannya tinggi.\n"
   ]
  }
 ],
 "metadata": {
  "kernelspec": {
   "display_name": "Python 3.10.5 64-bit",
   "language": "python",
   "name": "python3"
  },
  "language_info": {
   "codemirror_mode": {
    "name": "ipython",
    "version": 3
   },
   "file_extension": ".py",
   "mimetype": "text/x-python",
   "name": "python",
   "nbconvert_exporter": "python",
   "pygments_lexer": "ipython3",
   "version": "3.10.5"
  },
  "orig_nbformat": 4,
  "vscode": {
   "interpreter": {
    "hash": "8c3d4d9970fc5c09c50d9318a9c7fbf4d0159e4b28833276f5678ee22bded273"
   }
  }
 },
 "nbformat": 4,
 "nbformat_minor": 2
}
